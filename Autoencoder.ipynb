{
 "cells": [
  {
   "cell_type": "code",
   "execution_count": 2,
   "metadata": {},
   "outputs": [],
   "source": [
    "import numpy as np\n",
    "import matplotlib.pyplot as plt\n",
    "import tensorflow.keras as keras\n",
    "import tensorflow.keras.layers as layers\n",
    "from tensorflow.keras.datasets import mnist\n",
    "from sklearn import metrics\n",
    "from sklearn.metrics import roc_auc_score, plot_roc_curve\n",
    "from tqdm.notebook import tqdm_notebook"
   ]
  },
  {
   "cell_type": "markdown",
   "metadata": {},
   "source": [
    "The data is loaded."
   ]
  },
  {
   "cell_type": "code",
   "execution_count": 3,
   "metadata": {},
   "outputs": [],
   "source": [
    "(x_train, y_train), (x_test, y_test) = mnist.load_data()\n",
    "# Normalize the input data to inverval [0, 1]\n",
    "x_train = x_train.astype('float32') / 255\n",
    "x_test  = x_test.astype('float32') / 255\n",
    "# Flatten each image into a vecto'r\n",
    "x_train = x_train.reshape(len(x_train), 784)\n",
    "x_test  = x_test.reshape(len(x_test), 784)"
   ]
  },
  {
   "cell_type": "code",
   "execution_count": null,
   "metadata": {},
   "outputs": [],
   "source": [
    "def display10(imgs):\n",
    "    n = 10  # How many digits we will display\n",
    "    plt.figure(figsize=(10, 4))\n",
    "    for i in range(n):\n",
    "        # Display original\n",
    "        ax = plt.subplot(2, n, i + 1)\n",
    "        plt.imshow(imgs[i].reshape(28, 28))\n",
    "        plt.gray()\n",
    "        ax.get_xaxis().set_visible(False)\n",
    "        ax.get_yaxis().set_visible(False)\n",
    "    plt.show()"
   ]
  },
  {
   "cell_type": "markdown",
   "metadata": {},
   "source": [
    "Some hand-written digits from the dataset is shown."
   ]
  },
  {
   "cell_type": "code",
   "execution_count": null,
   "metadata": {},
   "outputs": [],
   "source": [
    "display10(x_test)"
   ]
  },
  {
   "cell_type": "markdown",
   "metadata": {},
   "source": [
    "**First Case**: The number '4' is considered the normal case."
   ]
  },
  {
   "cell_type": "code",
   "execution_count": null,
   "metadata": {},
   "outputs": [],
   "source": [
    "normal_train = x_train[np.where(y_train == 4)]\n",
    "normal_test  = x_test[np.where(y_test == 4)]\n",
    "\n",
    "display10(normal_train)\n",
    "display10(normal_test)"
   ]
  },
  {
   "cell_type": "markdown",
   "metadata": {},
   "source": [
    "A simple autoencoder structure is defined."
   ]
  },
  {
   "cell_type": "code",
   "execution_count": null,
   "metadata": {},
   "outputs": [],
   "source": [
    "#Sigmoid and ReLU are appropriate activation functions when having nonnegative data.\n",
    "model = keras.Sequential([\n",
    "    layers.Input( shape=(784) ),\n",
    "    # try 10 and 32\n",
    "    # 10 because: Rumelheadt proposed to use log2(N), Log2(784) approx 10.\n",
    "    layers.Dense(32, activation='relu' ),\n",
    "    layers.Dense(784, activation='sigmoid')\n",
    "])\n",
    "\n",
    "model.compile(optimizer='adam', loss='binary_crossentropy')"
   ]
  },
  {
   "cell_type": "code",
   "execution_count": null,
   "metadata": {},
   "outputs": [],
   "source": [
    "callbacks = [\n",
    "    keras.callbacks.EarlyStopping(patience=2)\n",
    "]\n",
    "\n",
    "model.fit(normal_train, normal_train,\n",
    "                epochs=50,\n",
    "                batch_size=256,\n",
    "                shuffle=True,\n",
    "                validation_data=(x_test, x_test),\n",
    "                callbacks=callbacks)"
   ]
  },
  {
   "cell_type": "markdown",
   "metadata": {},
   "source": [
    "From the below images it seems that the hypothesis is true and the reconstruction error can be utilized as an outlier score."
   ]
  },
  {
   "cell_type": "code",
   "execution_count": null,
   "metadata": {},
   "outputs": [],
   "source": [
    "reconstructions = model.predict(x_test)\n",
    "\n",
    "n = 10  # How many digits we will display\n",
    "plt.figure(figsize=(20, 4))\n",
    "for i in range(n):\n",
    "    # Display original\n",
    "    ax = plt.subplot(2, n, i + 1)\n",
    "    plt.imshow(x_test[i].reshape(28, 28))\n",
    "    plt.gray()\n",
    "    ax.get_xaxis().set_visible(False)\n",
    "    ax.get_yaxis().set_visible(False)\n",
    "    plt.title('$x_'+str(i)+'$')\n",
    "\n",
    "    # Display reconstruction\n",
    "    ax = plt.subplot(2, n, i + 1 + n)\n",
    "    plt.imshow(reconstructions[i].reshape(28, 28))\n",
    "    plt.gray()\n",
    "    ax.get_xaxis().set_visible(False)\n",
    "    ax.get_yaxis().set_visible(False)\n",
    "    plt.title('$\\hat{x}_'+str(i)+'$')\n",
    "plt.show()"
   ]
  },
  {
   "cell_type": "markdown",
   "metadata": {},
   "source": [
    "## Creating the evaluation dataset"
   ]
  },
  {
   "cell_type": "code",
   "execution_count": 4,
   "metadata": {},
   "outputs": [],
   "source": [
    "def create_dataset(y_test, normal=4):\n",
    "    num_normals  = int(np.sum( y_test == normal ))\n",
    "    num_outliers = int(np.ceil( num_normals * 0.10 ))\n",
    "    # Get non-normal elements in test dataset\n",
    "    sub_arr = x_test[ y_test != normal ]\n",
    "    # Generate random non-normal indices\n",
    "    idx = np.random.randint(low=0, high=len(sub_arr), size=num_outliers)\n",
    "    # Create contaminated test data\n",
    "    x_contaminated = np.zeros((num_normals + num_outliers, 784))\n",
    "    x_contaminated[num_outliers:,:] = x_test[y_test == normal]\n",
    "    x_contaminated[:num_outliers,:] = sub_arr[idx]\n",
    "    # Create contaminated labels\n",
    "    y_contaminated = np.zeros((num_normals + num_outliers))\n",
    "    y_contaminated[num_outliers:] = normal\n",
    "    y_contaminated[:num_outliers] = y_test[ y_test != normal ][idx]\n",
    "    # Create binary anomaly labels,   normal = 0,   outlier = 1\n",
    "    binary_labels = np.copy( y_contaminated )\n",
    "    binary_labels[y_contaminated == normal] = 0\n",
    "    binary_labels[y_contaminated != normal] = 1\n",
    "    \n",
    "    return (x_contaminated, y_contaminated, binary_labels)\n",
    "\n",
    "def create_model():\n",
    "    #Sigmoid and ReLU are appropriate activation functions when having nonnegative data.\n",
    "    model = keras.Sequential([\n",
    "        layers.Input( shape=(784) ),\n",
    "        # try 10 and 32\n",
    "        # 10 because: Rumelheadt proposed to use log2(N), Log2(784) approx 10.\n",
    "        layers.Dense(32, activation='relu' ),\n",
    "        layers.Dense(784, activation='sigmoid')\n",
    "    ])\n",
    "\n",
    "    model.compile(optimizer='adam', loss='binary_crossentropy')\n",
    "    return model\n",
    "\n",
    "def fit_model(model, x_train, y_train, x_test, y_test, normal=4, verbose=0):\n",
    "    callbacks = [\n",
    "        keras.callbacks.EarlyStopping(patience=2)\n",
    "    ]\n",
    "    train = x_train[y_train==normal]\n",
    "    test  = x_test[y_test==normal]\n",
    "    history = model.fit(train, train,\n",
    "                    epochs=50,\n",
    "                    batch_size=256,\n",
    "                    verbose=verbose,\n",
    "                    shuffle=True,\n",
    "                    validation_data=(test, test),\n",
    "                    callbacks=callbacks)\n",
    "    return model"
   ]
  },
  {
   "cell_type": "code",
   "execution_count": 5,
   "metadata": {},
   "outputs": [
    {
     "data": {
      "application/vnd.jupyter.widget-view+json": {
       "model_id": "f8c666a5ce524cc09769c37ea8ce6a2d",
       "version_major": 2,
       "version_minor": 0
      },
      "text/plain": [
       "HBox(children=(FloatProgress(value=0.0, max=30.0), HTML(value='')))"
      ]
     },
     "metadata": {},
     "output_type": "display_data"
    },
    {
     "name": "stdout",
     "output_type": "stream",
     "text": [
      "\n",
      "[0.98830411 0.98765329 0.99077006 0.98990927 0.98916405 0.98710779\n",
      " 0.98743303 0.99122562 0.98923243 0.98833081 0.98805263 0.98950405\n",
      " 0.9869976  0.99057208 0.98833986 0.9887435  0.98876193 0.98786642\n",
      " 0.98855819 0.98912541 0.9896829  0.98901568 0.99062605 0.99105978\n",
      " 0.98813476 0.99149973 0.98932825 0.98919182 0.98935178 0.98784312]\n"
     ]
    },
    {
     "data": {
      "application/vnd.jupyter.widget-view+json": {
       "model_id": "910119e488984780b60ec6ed5b20f037",
       "version_major": 2,
       "version_minor": 0
      },
      "text/plain": [
       "HBox(children=(FloatProgress(value=0.0, max=30.0), HTML(value='')))"
      ]
     },
     "metadata": {},
     "output_type": "display_data"
    },
    {
     "name": "stdout",
     "output_type": "stream",
     "text": [
      "\n",
      "[0.99926057 0.99927558 0.99921167 0.99924705 0.99927786 0.99933034\n",
      " 0.99926703 0.99887415 0.99936651 0.9993527  0.99899918 0.99915263\n",
      " 0.99926882 0.99900515 0.99929009 0.99877556 0.99944572 0.99891321\n",
      " 0.9994983  0.99918503 0.99925123 0.99903287 0.99922469 0.99916476\n",
      " 0.99924973 0.99921237 0.99914379 0.99915283 0.99916575 0.99913922]\n"
     ]
    },
    {
     "data": {
      "application/vnd.jupyter.widget-view+json": {
       "model_id": "61c2dce3251e4b52b9382b2d06f84f1b",
       "version_major": 2,
       "version_minor": 0
      },
      "text/plain": [
       "HBox(children=(FloatProgress(value=0.0, max=30.0), HTML(value='')))"
      ]
     },
     "metadata": {},
     "output_type": "display_data"
    },
    {
     "name": "stdout",
     "output_type": "stream",
     "text": [
      "\n",
      "[0.90676372 0.89822918 0.8970952  0.89647083 0.90469527 0.89065018\n",
      " 0.89889547 0.89973577 0.89627104 0.89763696 0.90056862 0.89884166\n",
      " 0.89925376 0.90284151 0.89517747 0.9049709  0.89899023 0.89908569\n",
      " 0.90004501 0.89919985 0.8965161  0.89871297 0.90252735 0.90118235\n",
      " 0.89838288 0.90015177 0.89985042 0.90098969 0.90224291 0.89960774]\n"
     ]
    },
    {
     "data": {
      "application/vnd.jupyter.widget-view+json": {
       "model_id": "d67243170479418597e4293c56c068d4",
       "version_major": 2,
       "version_minor": 0
      },
      "text/plain": [
       "HBox(children=(FloatProgress(value=0.0, max=30.0), HTML(value='')))"
      ]
     },
     "metadata": {},
     "output_type": "display_data"
    },
    {
     "name": "stdout",
     "output_type": "stream",
     "text": [
      "\n",
      "[0.94474554 0.9428443  0.93720817 0.94562451 0.94369707 0.942065\n",
      " 0.94128438 0.93821584 0.94108289 0.93899432 0.94127898 0.94213719\n",
      " 0.94139583 0.94990495 0.94550067 0.93696907 0.94461734 0.94492649\n",
      " 0.94239959 0.94183614 0.94380604 0.93819178 0.94603586 0.94385037\n",
      " 0.94150211 0.94366326 0.94163878 0.94399674 0.94781914 0.94170795]\n"
     ]
    },
    {
     "data": {
      "application/vnd.jupyter.widget-view+json": {
       "model_id": "ed51ae16449d4a43b6bba5bb0b2b40a1",
       "version_major": 2,
       "version_minor": 0
      },
      "text/plain": [
       "HBox(children=(FloatProgress(value=0.0, max=30.0), HTML(value='')))"
      ]
     },
     "metadata": {},
     "output_type": "display_data"
    },
    {
     "name": "stdout",
     "output_type": "stream",
     "text": [
      "\n",
      "[0.96310118 0.96220526 0.96027102 0.96504479 0.96138906 0.9617355\n",
      " 0.96024233 0.96113312 0.96120477 0.95959399 0.96170942 0.9619767\n",
      " 0.95955645 0.9621051  0.96426394 0.9599598  0.95821324 0.9608262\n",
      " 0.96144145 0.95809998 0.96182663 0.96240072 0.95970517 0.96243912\n",
      " 0.96047044 0.96331133 0.96165262 0.95732918 0.96235206 0.96476441]\n"
     ]
    },
    {
     "data": {
      "application/vnd.jupyter.widget-view+json": {
       "model_id": "86440a564e3743e0bd5a686820daec71",
       "version_major": 2,
       "version_minor": 0
      },
      "text/plain": [
       "HBox(children=(FloatProgress(value=0.0, max=30.0), HTML(value='')))"
      ]
     },
     "metadata": {},
     "output_type": "display_data"
    },
    {
     "name": "stdout",
     "output_type": "stream",
     "text": [
      "\n",
      "[0.94405358 0.94655342 0.94651058 0.94575981 0.9444186  0.9493166\n",
      " 0.94343489 0.94758181 0.94848034 0.94990089 0.95120869 0.94281145\n",
      " 0.95709779 0.94980156 0.94710029 0.9485297  0.9510472  0.94638085\n",
      " 0.95194253 0.94398398 0.94741146 0.95205245 0.95129054 0.94293318\n",
      " 0.95100326 0.94573784 0.95258813 0.95363646 0.94886634 0.94516813]\n"
     ]
    },
    {
     "data": {
      "application/vnd.jupyter.widget-view+json": {
       "model_id": "7c752fe6ec4549438f454396c7a09135",
       "version_major": 2,
       "version_minor": 0
      },
      "text/plain": [
       "HBox(children=(FloatProgress(value=0.0, max=30.0), HTML(value='')))"
      ]
     },
     "metadata": {},
     "output_type": "display_data"
    },
    {
     "name": "stdout",
     "output_type": "stream",
     "text": [
      "\n",
      "[0.98448911 0.98507972 0.98565197 0.98310482 0.98296283 0.9853988\n",
      " 0.98530807 0.98503019 0.98645154 0.98489974 0.98329969 0.98504035\n",
      " 0.98425256 0.98516826 0.9849615  0.98393613 0.98415894 0.98418238\n",
      " 0.98424922 0.98465021 0.98736262 0.98331955 0.98505109 0.98388442\n",
      " 0.98594635 0.98494788 0.98370317 0.98322177 0.98567824 0.98471307]\n"
     ]
    },
    {
     "data": {
      "application/vnd.jupyter.widget-view+json": {
       "model_id": "dcb2327739c5486c84295bffacab05fb",
       "version_major": 2,
       "version_minor": 0
      },
      "text/plain": [
       "HBox(children=(FloatProgress(value=0.0, max=30.0), HTML(value='')))"
      ]
     },
     "metadata": {},
     "output_type": "display_data"
    },
    {
     "name": "stdout",
     "output_type": "stream",
     "text": [
      "\n",
      "[0.96697735 0.9689322  0.96618999 0.96933315 0.9674362  0.97012539\n",
      " 0.96788647 0.96544405 0.9696119  0.96705553 0.96671622 0.96919751\n",
      " 0.96865811 0.96885251 0.9712468  0.96958848 0.96853278 0.97056482\n",
      " 0.96862233 0.96600622 0.96490487 0.96761325 0.96854823 0.96955411\n",
      " 0.96806494 0.96770313 0.9688215  0.96827191 0.96439301 0.96619606]\n"
     ]
    },
    {
     "data": {
      "application/vnd.jupyter.widget-view+json": {
       "model_id": "21ca577efa1e40ee8e55355ba7afaa40",
       "version_major": 2,
       "version_minor": 0
      },
      "text/plain": [
       "HBox(children=(FloatProgress(value=0.0, max=30.0), HTML(value='')))"
      ]
     },
     "metadata": {},
     "output_type": "display_data"
    },
    {
     "name": "stdout",
     "output_type": "stream",
     "text": [
      "\n",
      "[0.86128984 0.876349   0.87039535 0.85109501 0.86729075 0.85881854\n",
      " 0.86105551 0.8593552  0.85524922 0.86146762 0.86966008 0.86011999\n",
      " 0.86570862 0.8606219  0.85391785 0.86076966 0.86537216 0.86483856\n",
      " 0.86864311 0.86105335 0.85935452 0.86211679 0.86186864 0.86480717\n",
      " 0.8617173  0.8592956  0.85785861 0.86605067 0.86167954 0.8599207 ]\n"
     ]
    },
    {
     "data": {
      "application/vnd.jupyter.widget-view+json": {
       "model_id": "c96bdced03934820a04841ff778837cb",
       "version_major": 2,
       "version_minor": 0
      },
      "text/plain": [
       "HBox(children=(FloatProgress(value=0.0, max=30.0), HTML(value='')))"
      ]
     },
     "metadata": {},
     "output_type": "display_data"
    },
    {
     "name": "stdout",
     "output_type": "stream",
     "text": [
      "\n",
      "[0.96508919 0.96550598 0.96419269 0.96138843 0.9663176  0.96403071\n",
      " 0.9646162  0.96597137 0.96522224 0.96469099 0.96548795 0.96421077\n",
      " 0.96632355 0.96290377 0.96425398 0.96289848 0.96402426 0.96571464\n",
      " 0.96496904 0.96611985 0.96373976 0.96297101 0.96602709 0.96358312\n",
      " 0.96438372 0.96414474 0.96489552 0.96332485 0.96495345 0.96545714]\n",
      "[0.9890462  0.99919115 0.89951942 0.94263134 0.96134417 0.94822008\n",
      " 0.98467014 0.96803497 0.86225803 0.9645804 ]\n",
      "[0.00120216 0.00015756 0.00307818 0.00291603 0.00180114 0.00346298\n",
      " 0.00100257 0.00163182 0.00501698 0.00115749]\n"
     ]
    }
   ],
   "source": [
    "evals = np.zeros((10, 30))\n",
    "for i in range(10):\n",
    "    # Evaluate for all numbers\n",
    "    for j in tqdm_notebook(range(30)):\n",
    "        # Evaluate each method 30 times\n",
    "        model = create_model()\n",
    "        model = fit_model(model, x_train, y_train, x_test, y_test, normal=i)\n",
    "\n",
    "        \n",
    "        x = x_test\n",
    "        y = y_test\n",
    "        labels = np.copy( y )\n",
    "        labels[ y == i ] = 0\n",
    "        labels[ y != i ] = 1\n",
    "        \n",
    "        xhat = model.predict(x)\n",
    "        err  = np.sum(np.abs(x-xhat), axis=1)\n",
    "        # Max-Min normalize the error\n",
    "        err /= np.max(err)\n",
    "        # Compute AUC\n",
    "        AUC = roc_auc_score(labels, err)\n",
    "        evals[i,j] = AUC\n",
    "    print(evals[i,:])\n",
    "\n",
    "print(np.mean(evals, axis=1))\n",
    "print(np.std(evals, axis=1))"
   ]
  },
  {
   "cell_type": "code",
   "execution_count": 6,
   "metadata": {},
   "outputs": [
    {
     "name": "stdout",
     "output_type": "stream",
     "text": [
      "[98.90461993 99.91911467 89.95194171 94.26313432 96.1344165  94.82200781\n",
      " 98.46701398 96.80349674 86.22580285 96.45804028]\n",
      "[0.12021626 0.01575642 0.30781823 0.29160316 0.18011378 0.34629828\n",
      " 0.10025668 0.16318224 0.50169784 0.11574864]\n"
     ]
    }
   ],
   "source": [
    "print(np.mean(evals, axis=1)*100)\n",
    "print(np.std(evals, axis=1)*100)"
   ]
  },
  {
   "cell_type": "code",
   "execution_count": null,
   "metadata": {
    "scrolled": false
   },
   "outputs": [],
   "source": [
    "evals = np.zeros((10, 30))\n",
    "for i in range(10):\n",
    "    # Evaluate for all numbers\n",
    "    for j in tqdm_notebook(range(30)):\n",
    "        # Evaluate each method 30 times\n",
    "        model = create_model()\n",
    "        model = fit_model(model, x_train, y_train, x_test, y_test, normal=i)\n",
    "\n",
    "        x, y, labels = create_dataset(y_test, normal=i)\n",
    "        xhat = model.predict(x)\n",
    "        err  = np.sum(np.abs(x-xhat), axis=1)\n",
    "        # Max-Min normalize the error\n",
    "        err /= np.max(err)\n",
    "        # Compute AUC\n",
    "        AUC = roc_auc_score(labels, err)\n",
    "        evals[i,j] = AUC\n",
    "\n",
    "print(np.mean(evals, axis=1))\n",
    "print(np.std(evals, axis=1))"
   ]
  },
  {
   "cell_type": "code",
   "execution_count": null,
   "metadata": {
    "scrolled": false
   },
   "outputs": [],
   "source": [
    "print(np.mean(evals, axis=1)*100)\n",
    "print(np.std(evals, axis=1)*100)"
   ]
  },
  {
   "cell_type": "markdown",
   "metadata": {},
   "source": [
    "## ROC plot"
   ]
  },
  {
   "cell_type": "code",
   "execution_count": null,
   "metadata": {},
   "outputs": [],
   "source": [
    "fpr, tpr, _ = metrics.roc_curve(labels,  err)"
   ]
  },
  {
   "cell_type": "code",
   "execution_count": null,
   "metadata": {
    "scrolled": false
   },
   "outputs": [],
   "source": [
    "auc = metrics.roc_auc_score(labels, err)\n",
    "plt.plot(fpr,tpr,label=\"AE, AUC=\"+str(auc))\n",
    "plt.legend(loc=4)"
   ]
  },
  {
   "cell_type": "markdown",
   "metadata": {},
   "source": [
    "# Misc.."
   ]
  },
  {
   "cell_type": "code",
   "execution_count": null,
   "metadata": {},
   "outputs": [],
   "source": [
    "num_normals  = int(np.sum( y_test == 4 ))\n",
    "num_outliers = int(np.ceil( num_normals * 0.05 ))"
   ]
  },
  {
   "cell_type": "code",
   "execution_count": null,
   "metadata": {},
   "outputs": [],
   "source": [
    "sub_arr = x_test[ y_test != 4 ]\n",
    "idx = np.random.randint(low=0, high=len(sub_arr), size=num_outliers)\n",
    "\n",
    "x_contaminated = np.zeros((num_normals + num_outliers, 784))\n",
    "x_contaminated[num_outliers:,:] = x_test[y_test == 4]\n",
    "x_contaminated[:num_outliers,:] = sub_arr[idx]\n",
    "\n",
    "y_contaminated = np.zeros((num_normals + num_outliers))\n",
    "y_contaminated[num_outliers:] = 4\n",
    "y_contaminated[:num_outliers] = y_test[ y_test != 4 ][idx]"
   ]
  },
  {
   "cell_type": "code",
   "execution_count": null,
   "metadata": {},
   "outputs": [],
   "source": [
    "xhat = model.predict(x_contaminated)\n",
    "\n",
    "err  = np.abs(x_contaminated - xhat)\n",
    "err  = np.sum(err, axis=1)"
   ]
  },
  {
   "cell_type": "code",
   "execution_count": null,
   "metadata": {},
   "outputs": [],
   "source": [
    "y_outliers = y_contaminated[np.argsort(err)[::-1]][:50]\n",
    "print(y_outliers)"
   ]
  },
  {
   "cell_type": "code",
   "execution_count": null,
   "metadata": {},
   "outputs": [],
   "source": [
    "n = 10  # How many digits we will display\n",
    "plt.figure(figsize=(20, 4))\n",
    "for i in range(n):\n",
    "    # Display original\n",
    "    ax = plt.subplot(2, n, i + 1)\n",
    "    plt.imshow(x_contaminated[np.argsort(err)[::-1]][i].reshape(28, 28))\n",
    "    plt.gray()\n",
    "    ax.get_xaxis().set_visible(False)\n",
    "    ax.get_yaxis().set_visible(False)\n",
    "    #plt.title('$x_'+str(i)+'$')\n",
    "plt.show()"
   ]
  },
  {
   "cell_type": "code",
   "execution_count": null,
   "metadata": {},
   "outputs": [],
   "source": [
    "# create outlier labels\n",
    "# normal:  0\n",
    "# outlier: 1\n",
    "y_true = np.copy( y_contaminated )\n",
    "y_true[y_contaminated == 4] = 0\n",
    "y_true[y_contaminated != 4] = 1 # set outliers as 1\n",
    "\n",
    "# Perform max-min normalization on the errors\n",
    "n_err = np.copy( err )\n",
    "n_err = n_err / np.max(n_err)\n",
    "\n",
    "AUC = roc_auc_score(y_true, n_err)\n",
    "print(AUC)"
   ]
  }
 ],
 "metadata": {
  "kernelspec": {
   "display_name": "Python 3",
   "language": "python",
   "name": "python3"
  },
  "language_info": {
   "codemirror_mode": {
    "name": "ipython",
    "version": 3
   },
   "file_extension": ".py",
   "mimetype": "text/x-python",
   "name": "python",
   "nbconvert_exporter": "python",
   "pygments_lexer": "ipython3",
   "version": "3.7.6"
  }
 },
 "nbformat": 4,
 "nbformat_minor": 4
}
