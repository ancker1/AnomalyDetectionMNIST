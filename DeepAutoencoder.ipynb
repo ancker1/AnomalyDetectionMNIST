{
 "cells": [
  {
   "cell_type": "code",
   "execution_count": 1,
   "metadata": {},
   "outputs": [],
   "source": [
    "import numpy as np\n",
    "import matplotlib.pyplot as plt\n",
    "import tensorflow.keras as keras\n",
    "import tensorflow.keras.layers as layers\n",
    "from tensorflow.keras.datasets import mnist\n",
    "from sklearn.metrics import roc_auc_score\n",
    "from tqdm.notebook import tqdm_notebook\n",
    "\n",
    "from util import load_data, create_dataset"
   ]
  },
  {
   "cell_type": "markdown",
   "metadata": {},
   "source": [
    "# Deep Autoencoder Structure I: Rumelhardt, Log2(N)"
   ]
  },
  {
   "cell_type": "code",
   "execution_count": 2,
   "metadata": {},
   "outputs": [],
   "source": [
    "(x_train, y_train), (x_test, y_test) = load_data()"
   ]
  },
  {
   "cell_type": "code",
   "execution_count": 3,
   "metadata": {},
   "outputs": [],
   "source": [
    "def create_model():\n",
    "    #Sigmoid and ReLU are appropriate activation functions when having nonnegative data.\n",
    "    model = keras.Sequential([\n",
    "        layers.Input( shape=(784) ),\n",
    "        layers.Dense(32, activation='relu' ),\n",
    "        # 10 because: Rumelheadt proposed to use log2(N), Log2(784) approx 10.\n",
    "        layers.Dense(10, activation='relu' ),\n",
    "        layers.Dense(32, activation='relu' ),\n",
    "        layers.Dense(784, activation='sigmoid')\n",
    "    ])\n",
    "\n",
    "    model.compile(optimizer='adam', loss='binary_crossentropy')\n",
    "    return model\n",
    "\n",
    "def fit_model(model, x_train, y_train, x_test, y_test, normal=4, verbose=0):\n",
    "    callbacks = [\n",
    "        keras.callbacks.EarlyStopping(patience=2)\n",
    "    ]\n",
    "    train = x_train[y_train==normal]\n",
    "    test  = x_test[y_test==normal]\n",
    "    history = model.fit(train, train,\n",
    "                    epochs=50,\n",
    "                    batch_size=256,\n",
    "                    verbose=verbose,\n",
    "                    shuffle=True,\n",
    "                    validation_data=(test, test),\n",
    "                    callbacks=callbacks)\n",
    "    return model"
   ]
  },
  {
   "cell_type": "code",
   "execution_count": 4,
   "metadata": {},
   "outputs": [
    {
     "data": {
      "application/vnd.jupyter.widget-view+json": {
       "model_id": "01cbdf15d8f64aacbe4e22165a5cd717",
       "version_major": 2,
       "version_minor": 0
      },
      "text/plain": [
       "HBox(children=(FloatProgress(value=0.0, max=30.0), HTML(value='')))"
      ]
     },
     "metadata": {},
     "output_type": "display_data"
    },
    {
     "name": "stdout",
     "output_type": "stream",
     "text": [
      "\n"
     ]
    },
    {
     "data": {
      "application/vnd.jupyter.widget-view+json": {
       "model_id": "082dd62e4b46447f98d29f115bcaf543",
       "version_major": 2,
       "version_minor": 0
      },
      "text/plain": [
       "HBox(children=(FloatProgress(value=0.0, max=30.0), HTML(value='')))"
      ]
     },
     "metadata": {},
     "output_type": "display_data"
    },
    {
     "name": "stdout",
     "output_type": "stream",
     "text": [
      "\n"
     ]
    },
    {
     "data": {
      "application/vnd.jupyter.widget-view+json": {
       "model_id": "6ab3376ac41f4933905d7c750e353cfa",
       "version_major": 2,
       "version_minor": 0
      },
      "text/plain": [
       "HBox(children=(FloatProgress(value=0.0, max=30.0), HTML(value='')))"
      ]
     },
     "metadata": {},
     "output_type": "display_data"
    },
    {
     "name": "stdout",
     "output_type": "stream",
     "text": [
      "\n"
     ]
    },
    {
     "data": {
      "application/vnd.jupyter.widget-view+json": {
       "model_id": "b3350050c1244f18a6297b8c4bded26c",
       "version_major": 2,
       "version_minor": 0
      },
      "text/plain": [
       "HBox(children=(FloatProgress(value=0.0, max=30.0), HTML(value='')))"
      ]
     },
     "metadata": {},
     "output_type": "display_data"
    },
    {
     "name": "stdout",
     "output_type": "stream",
     "text": [
      "\n"
     ]
    },
    {
     "data": {
      "application/vnd.jupyter.widget-view+json": {
       "model_id": "f8d2c7e29ed64c95bfd99bfd377699f2",
       "version_major": 2,
       "version_minor": 0
      },
      "text/plain": [
       "HBox(children=(FloatProgress(value=0.0, max=30.0), HTML(value='')))"
      ]
     },
     "metadata": {},
     "output_type": "display_data"
    },
    {
     "name": "stdout",
     "output_type": "stream",
     "text": [
      "\n"
     ]
    },
    {
     "data": {
      "application/vnd.jupyter.widget-view+json": {
       "model_id": "ebc024f4cf03427798f0bb003ab113ec",
       "version_major": 2,
       "version_minor": 0
      },
      "text/plain": [
       "HBox(children=(FloatProgress(value=0.0, max=30.0), HTML(value='')))"
      ]
     },
     "metadata": {},
     "output_type": "display_data"
    },
    {
     "name": "stdout",
     "output_type": "stream",
     "text": [
      "\n"
     ]
    },
    {
     "data": {
      "application/vnd.jupyter.widget-view+json": {
       "model_id": "5d527f8c837243d9ac55a2dfb65ff7e5",
       "version_major": 2,
       "version_minor": 0
      },
      "text/plain": [
       "HBox(children=(FloatProgress(value=0.0, max=30.0), HTML(value='')))"
      ]
     },
     "metadata": {},
     "output_type": "display_data"
    },
    {
     "name": "stdout",
     "output_type": "stream",
     "text": [
      "\n"
     ]
    },
    {
     "data": {
      "application/vnd.jupyter.widget-view+json": {
       "model_id": "7977451c36a2434fa83391ad97e6b2ec",
       "version_major": 2,
       "version_minor": 0
      },
      "text/plain": [
       "HBox(children=(FloatProgress(value=0.0, max=30.0), HTML(value='')))"
      ]
     },
     "metadata": {},
     "output_type": "display_data"
    },
    {
     "name": "stdout",
     "output_type": "stream",
     "text": [
      "\n"
     ]
    },
    {
     "data": {
      "application/vnd.jupyter.widget-view+json": {
       "model_id": "b4545b0d0e3c471588a131b3bb9c7594",
       "version_major": 2,
       "version_minor": 0
      },
      "text/plain": [
       "HBox(children=(FloatProgress(value=0.0, max=30.0), HTML(value='')))"
      ]
     },
     "metadata": {},
     "output_type": "display_data"
    },
    {
     "name": "stdout",
     "output_type": "stream",
     "text": [
      "\n"
     ]
    },
    {
     "data": {
      "application/vnd.jupyter.widget-view+json": {
       "model_id": "828d515be00a4f2a80f643996e455606",
       "version_major": 2,
       "version_minor": 0
      },
      "text/plain": [
       "HBox(children=(FloatProgress(value=0.0, max=30.0), HTML(value='')))"
      ]
     },
     "metadata": {},
     "output_type": "display_data"
    },
    {
     "name": "stdout",
     "output_type": "stream",
     "text": [
      "\n",
      "[0.98894037 0.99928536 0.85449153 0.91720125 0.94718365 0.93562822\n",
      " 0.97437913 0.96887789 0.84675369 0.95629434]\n",
      "[0.00384485 0.00026231 0.02362429 0.01638212 0.01397101 0.01201317\n",
      " 0.0063243  0.00800612 0.02947517 0.00871649]\n"
     ]
    }
   ],
   "source": [
    "evals = np.zeros((10, 30))\n",
    "for i in range(10):\n",
    "    # Evaluate for all numbers\n",
    "    for j in tqdm_notebook(range(30)):\n",
    "        # Evaluate each method 30 times\n",
    "        model = create_model()\n",
    "        model = fit_model(model, x_train, y_train, x_test, y_test, normal=i)\n",
    "\n",
    "        x, y, labels = create_dataset(x_test, y_test, normal=i)\n",
    "        xhat = model.predict(x)\n",
    "        err  = np.sum(np.abs(x-xhat), axis=1)\n",
    "        # Max-Min normalize the error\n",
    "        err /= np.max(err)\n",
    "        # Compute AUC\n",
    "        AUC = roc_auc_score(labels, err)\n",
    "        evals[i,j] = AUC\n",
    "\n",
    "print(np.mean(evals, axis=1))\n",
    "print(np.std(evals, axis=1))"
   ]
  },
  {
   "cell_type": "code",
   "execution_count": 6,
   "metadata": {},
   "outputs": [
    {
     "name": "stdout",
     "output_type": "stream",
     "text": [
      "[98.89403721 99.92853647 85.44915275 91.72012548 94.71836491 93.56282179\n",
      " 97.43791319 96.88778915 84.67536912 95.6294341 ]\n",
      "[0.38448477 0.02623144 2.36242881 1.63821203 1.39710101 1.20131739\n",
      " 0.63243038 0.80061163 2.94751674 0.87164862]\n"
     ]
    }
   ],
   "source": [
    "print(np.mean(evals, axis=1)*100)\n",
    "print(np.std(evals, axis=1)*100)"
   ]
  },
  {
   "cell_type": "markdown",
   "metadata": {},
   "source": [
    "# Deep Autoencoder Structure II: Tensorflow"
   ]
  },
  {
   "cell_type": "code",
   "execution_count": 10,
   "metadata": {},
   "outputs": [],
   "source": [
    "def create_model():\n",
    "    #Sigmoid and ReLU are appropriate activation functions when having nonnegative data.\n",
    "    model = keras.Sequential([\n",
    "        layers.Input( shape=(784) ),\n",
    "        layers.Dense(128, activation='relu' ),\n",
    "        layers.Dense(64, activation='relu' ),\n",
    "        layers.Dense(32, activation='relu' ),\n",
    "        layers.Dense(64, activation='relu' ),\n",
    "        layers.Dense(128, activation='relu' ),\n",
    "        layers.Dense(784, activation='sigmoid')\n",
    "    ])\n",
    "\n",
    "    model.compile(optimizer='adam', loss='binary_crossentropy')\n",
    "    return model"
   ]
  },
  {
   "cell_type": "code",
   "execution_count": 11,
   "metadata": {},
   "outputs": [
    {
     "data": {
      "application/vnd.jupyter.widget-view+json": {
       "model_id": "b39ed71972324c64b02e14f37abf57f9",
       "version_major": 2,
       "version_minor": 0
      },
      "text/plain": [
       "HBox(children=(FloatProgress(value=0.0, max=30.0), HTML(value='')))"
      ]
     },
     "metadata": {},
     "output_type": "display_data"
    },
    {
     "name": "stdout",
     "output_type": "stream",
     "text": [
      "\n"
     ]
    },
    {
     "data": {
      "application/vnd.jupyter.widget-view+json": {
       "model_id": "3849811f8575400fac049521e3e30982",
       "version_major": 2,
       "version_minor": 0
      },
      "text/plain": [
       "HBox(children=(FloatProgress(value=0.0, max=30.0), HTML(value='')))"
      ]
     },
     "metadata": {},
     "output_type": "display_data"
    },
    {
     "name": "stdout",
     "output_type": "stream",
     "text": [
      "\n"
     ]
    },
    {
     "data": {
      "application/vnd.jupyter.widget-view+json": {
       "model_id": "24d8f855890d4062bfcd9bb671faf5bc",
       "version_major": 2,
       "version_minor": 0
      },
      "text/plain": [
       "HBox(children=(FloatProgress(value=0.0, max=30.0), HTML(value='')))"
      ]
     },
     "metadata": {},
     "output_type": "display_data"
    },
    {
     "name": "stdout",
     "output_type": "stream",
     "text": [
      "\n"
     ]
    },
    {
     "data": {
      "application/vnd.jupyter.widget-view+json": {
       "model_id": "992df56411654ed1ac57a56e0f8521b7",
       "version_major": 2,
       "version_minor": 0
      },
      "text/plain": [
       "HBox(children=(FloatProgress(value=0.0, max=30.0), HTML(value='')))"
      ]
     },
     "metadata": {},
     "output_type": "display_data"
    },
    {
     "name": "stdout",
     "output_type": "stream",
     "text": [
      "\n"
     ]
    },
    {
     "data": {
      "application/vnd.jupyter.widget-view+json": {
       "model_id": "6e4ffdb01da245219685bfde03e4a877",
       "version_major": 2,
       "version_minor": 0
      },
      "text/plain": [
       "HBox(children=(FloatProgress(value=0.0, max=30.0), HTML(value='')))"
      ]
     },
     "metadata": {},
     "output_type": "display_data"
    },
    {
     "name": "stdout",
     "output_type": "stream",
     "text": [
      "\n"
     ]
    },
    {
     "data": {
      "application/vnd.jupyter.widget-view+json": {
       "model_id": "f6c804afd33c4e6d9f5cb248add4c888",
       "version_major": 2,
       "version_minor": 0
      },
      "text/plain": [
       "HBox(children=(FloatProgress(value=0.0, max=30.0), HTML(value='')))"
      ]
     },
     "metadata": {},
     "output_type": "display_data"
    },
    {
     "name": "stdout",
     "output_type": "stream",
     "text": [
      "\n"
     ]
    },
    {
     "data": {
      "application/vnd.jupyter.widget-view+json": {
       "model_id": "1765806286594aee83ac90f7e76debf0",
       "version_major": 2,
       "version_minor": 0
      },
      "text/plain": [
       "HBox(children=(FloatProgress(value=0.0, max=30.0), HTML(value='')))"
      ]
     },
     "metadata": {},
     "output_type": "display_data"
    },
    {
     "name": "stdout",
     "output_type": "stream",
     "text": [
      "\n"
     ]
    },
    {
     "data": {
      "application/vnd.jupyter.widget-view+json": {
       "model_id": "f77b72e6446348dbb58a350be1dd9bea",
       "version_major": 2,
       "version_minor": 0
      },
      "text/plain": [
       "HBox(children=(FloatProgress(value=0.0, max=30.0), HTML(value='')))"
      ]
     },
     "metadata": {},
     "output_type": "display_data"
    },
    {
     "name": "stdout",
     "output_type": "stream",
     "text": [
      "\n"
     ]
    },
    {
     "data": {
      "application/vnd.jupyter.widget-view+json": {
       "model_id": "5857095704da451fa795efbd676a15ff",
       "version_major": 2,
       "version_minor": 0
      },
      "text/plain": [
       "HBox(children=(FloatProgress(value=0.0, max=30.0), HTML(value='')))"
      ]
     },
     "metadata": {},
     "output_type": "display_data"
    },
    {
     "name": "stdout",
     "output_type": "stream",
     "text": [
      "\n"
     ]
    },
    {
     "data": {
      "application/vnd.jupyter.widget-view+json": {
       "model_id": "2d97e21b716e444d9d29100b60d31649",
       "version_major": 2,
       "version_minor": 0
      },
      "text/plain": [
       "HBox(children=(FloatProgress(value=0.0, max=30.0), HTML(value='')))"
      ]
     },
     "metadata": {},
     "output_type": "display_data"
    },
    {
     "name": "stdout",
     "output_type": "stream",
     "text": [
      "\n",
      "[0.99247015 0.99940516 0.89304437 0.94021795 0.96015553 0.95958437\n",
      " 0.98497557 0.96598416 0.85261807 0.96915843]\n",
      "[0.00276834 0.000143   0.0173217  0.00945851 0.00887324 0.0101099\n",
      " 0.00334434 0.00808757 0.02397572 0.00611901]\n"
     ]
    }
   ],
   "source": [
    "evals = np.zeros((10, 30))\n",
    "for i in range(10):\n",
    "    # Evaluate for all numbers\n",
    "    for j in tqdm_notebook(range(30)):\n",
    "        # Evaluate each method 30 times\n",
    "        model = create_model()\n",
    "        model = fit_model(model, x_train, y_train, x_test, y_test, normal=i)\n",
    "\n",
    "        x, y, labels = create_dataset(x_test, y_test, normal=i)\n",
    "        xhat = model.predict(x)\n",
    "        err  = np.sum(np.abs(x-xhat), axis=1)\n",
    "        # Max-Min normalize the error\n",
    "        err /= np.max(err)\n",
    "        # Compute AUC\n",
    "        AUC = roc_auc_score(labels, err)\n",
    "        evals[i,j] = AUC\n",
    "\n",
    "print(np.mean(evals, axis=1))\n",
    "print(np.std(evals, axis=1))"
   ]
  },
  {
   "cell_type": "code",
   "execution_count": 12,
   "metadata": {},
   "outputs": [
    {
     "name": "stdout",
     "output_type": "stream",
     "text": [
      "[99.24701513 99.94051575 89.30443749 94.02179525 96.01555268 95.95843714\n",
      " 98.49755712 96.59841588 85.26180698 96.91584322]\n",
      "[0.27683404 0.01430027 1.73217044 0.94585106 0.88732448 1.01099004\n",
      " 0.33443403 0.80875728 2.39757166 0.61190133]\n"
     ]
    }
   ],
   "source": [
    "print(np.mean(evals, axis=1)*100)\n",
    "print(np.std(evals, axis=1)*100)"
   ]
  },
  {
   "cell_type": "code",
   "execution_count": null,
   "metadata": {},
   "outputs": [],
   "source": []
  }
 ],
 "metadata": {
  "kernelspec": {
   "display_name": "Python 3",
   "language": "python",
   "name": "python3"
  },
  "language_info": {
   "codemirror_mode": {
    "name": "ipython",
    "version": 3
   },
   "file_extension": ".py",
   "mimetype": "text/x-python",
   "name": "python",
   "nbconvert_exporter": "python",
   "pygments_lexer": "ipython3",
   "version": "3.7.6"
  }
 },
 "nbformat": 4,
 "nbformat_minor": 4
}
