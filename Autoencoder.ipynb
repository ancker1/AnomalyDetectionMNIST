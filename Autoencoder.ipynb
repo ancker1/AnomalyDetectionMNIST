{
 "cells": [
  {
   "cell_type": "code",
   "execution_count": 1,
   "metadata": {},
   "outputs": [],
   "source": [
    "import numpy as np\n",
    "import matplotlib.pyplot as plt\n",
    "import tensorflow.keras as keras\n",
    "import tensorflow.keras.layers as layers\n",
    "from tensorflow.keras.datasets import mnist\n",
    "from sklearn.metrics import roc_auc_score\n",
    "from tqdm.notebook import tqdm_notebook"
   ]
  },
  {
   "cell_type": "markdown",
   "metadata": {},
   "source": [
    "The data is loaded."
   ]
  },
  {
   "cell_type": "code",
   "execution_count": 2,
   "metadata": {},
   "outputs": [],
   "source": [
    "(x_train, y_train), (x_test, y_test) = mnist.load_data()\n",
    "# Normalize the input data to inverval [0, 1]\n",
    "x_train = x_train.astype('float32') / 255\n",
    "x_test  = x_test.astype('float32') / 255\n",
    "# Flatten each image into a vecto'r\n",
    "x_train = x_train.reshape(len(x_train), 784)\n",
    "x_test  = x_test.reshape(len(x_test), 784)"
   ]
  },
  {
   "cell_type": "code",
   "execution_count": 3,
   "metadata": {},
   "outputs": [],
   "source": [
    "def display10(imgs):\n",
    "    n = 10  # How many digits we will display\n",
    "    plt.figure(figsize=(10, 4))\n",
    "    for i in range(n):\n",
    "        # Display original\n",
    "        ax = plt.subplot(2, n, i + 1)\n",
    "        plt.imshow(imgs[i].reshape(28, 28))\n",
    "        plt.gray()\n",
    "        ax.get_xaxis().set_visible(False)\n",
    "        ax.get_yaxis().set_visible(False)\n",
    "    plt.show()"
   ]
  },
  {
   "cell_type": "markdown",
   "metadata": {},
   "source": [
    "Some hand-written digits from the dataset is shown."
   ]
  },
  {
   "cell_type": "code",
   "execution_count": 4,
   "metadata": {},
   "outputs": [
    {
     "data": {
      "image/png": "[encoded data removed]",
      "text/plain": [
       "<Figure size 720x288 with 10 Axes>"
      ]
     },
     "metadata": {
      "needs_background": "light"
     },
     "output_type": "display_data"
    }
   ],
   "source": [
    "display10(x_test)"
   ]
  },
  {
   "cell_type": "markdown",
   "metadata": {},
   "source": [
    "**First Case**: The number '4' is considered the normal case."
   ]
  },
  {
   "cell_type": "code",
   "execution_count": 5,
   "metadata": {},
   "outputs": [
    {
     "data": {
      "image/png": "[encoded data removed]",
      "text/plain": [
       "<Figure size 720x288 with 10 Axes>"
      ]
     },
     "metadata": {
      "needs_background": "light"
     },
     "output_type": "display_data"
    },
    {
     "data": {
      "image/png": "[encoded data removed]",
      "text/plain": [
       "<Figure size 720x288 with 10 Axes>"
      ]
     },
     "metadata": {
      "needs_background": "light"
     },
     "output_type": "display_data"
    }
   ],
   "source": [
    "normal_train = x_train[np.where(y_train == 4)]\n",
    "normal_test  = x_test[np.where(y_test == 4)]\n",
    "\n",
    "display10(normal_train)\n",
    "display10(normal_test)"
   ]
  },
  {
   "cell_type": "markdown",
   "metadata": {},
   "source": [
    "A simple autoencoder structure is defined."
   ]
  },
  {
   "cell_type": "code",
   "execution_count": 3,
   "metadata": {},
   "outputs": [],
   "source": [
    "#Sigmoid and ReLU are appropriate activation functions when having nonnegative data.\n",
    "model = keras.Sequential([\n",
    "    layers.Input( shape=(784) ),\n",
    "    # try 10 and 32\n",
    "    # 10 because: Rumelheadt proposed to use log2(N), Log2(784) approx 10.\n",
    "    layers.Dense(32, activation='relu' ),\n",
    "    layers.Dense(784, activation='sigmoid')\n",
    "])\n",
    "\n",
    "model.compile(optimizer='adam', loss='binary_crossentropy')"
   ]
  },
  {
   "cell_type": "code",
   "execution_count": 7,
   "metadata": {},
   "outputs": [
    {
     "name": "stdout",
     "output_type": "stream",
     "text": [
      "Epoch 1/50\n",
      "23/23 [==============================] - 0s 13ms/step - loss: 0.5869 - val_loss: 0.4431\n",
      "Epoch 2/50\n",
      "23/23 [==============================] - 0s 7ms/step - loss: 0.2894 - val_loss: 0.3569\n",
      "Epoch 3/50\n",
      "23/23 [==============================] - 0s 9ms/step - loss: 0.2312 - val_loss: 0.3299\n",
      "Epoch 4/50\n",
      "23/23 [==============================] - 0s 9ms/step - loss: 0.2174 - val_loss: 0.3141\n",
      "Epoch 5/50\n",
      "23/23 [==============================] - 0s 9ms/step - loss: 0.2045 - val_loss: 0.3037\n",
      "Epoch 6/50\n",
      "23/23 [==============================] - 0s 9ms/step - loss: 0.1921 - val_loss: 0.2960\n",
      "Epoch 7/50\n",
      "23/23 [==============================] - 0s 9ms/step - loss: 0.1816 - val_loss: 0.2908\n",
      "Epoch 8/50\n",
      "23/23 [==============================] - 0s 9ms/step - loss: 0.1728 - val_loss: 0.2853\n",
      "Epoch 9/50\n",
      "23/23 [==============================] - 0s 8ms/step - loss: 0.1652 - val_loss: 0.2798\n",
      "Epoch 10/50\n",
      "23/23 [==============================] - 0s 8ms/step - loss: 0.1586 - val_loss: 0.2756\n",
      "Epoch 11/50\n",
      "23/23 [==============================] - 0s 11ms/step - loss: 0.1532 - val_loss: 0.2731\n",
      "Epoch 12/50\n",
      "23/23 [==============================] - 0s 11ms/step - loss: 0.1486 - val_loss: 0.2693\n",
      "Epoch 13/50\n",
      "23/23 [==============================] - 0s 9ms/step - loss: 0.1447 - val_loss: 0.2665\n",
      "Epoch 14/50\n",
      "23/23 [==============================] - 0s 8ms/step - loss: 0.1412 - val_loss: 0.2645\n",
      "Epoch 15/50\n",
      "23/23 [==============================] - 0s 12ms/step - loss: 0.1382 - val_loss: 0.2621\n",
      "Epoch 16/50\n",
      "23/23 [==============================] - 0s 13ms/step - loss: 0.1356 - val_loss: 0.2594\n",
      "Epoch 17/50\n",
      "23/23 [==============================] - 0s 11ms/step - loss: 0.1331 - val_loss: 0.2575\n",
      "Epoch 18/50\n",
      "23/23 [==============================] - 0s 11ms/step - loss: 0.1310 - val_loss: 0.2556\n",
      "Epoch 19/50\n",
      "23/23 [==============================] - 0s 10ms/step - loss: 0.1291 - val_loss: 0.2542\n",
      "Epoch 20/50\n",
      "23/23 [==============================] - 0s 10ms/step - loss: 0.1273 - val_loss: 0.2520\n",
      "Epoch 21/50\n",
      "23/23 [==============================] - 0s 9ms/step - loss: 0.1255 - val_loss: 0.2506\n",
      "Epoch 22/50\n",
      "23/23 [==============================] - 0s 9ms/step - loss: 0.1240 - val_loss: 0.2481\n",
      "Epoch 23/50\n",
      "23/23 [==============================] - 0s 9ms/step - loss: 0.1226 - val_loss: 0.2471\n",
      "Epoch 24/50\n",
      "23/23 [==============================] - 0s 9ms/step - loss: 0.1212 - val_loss: 0.2463\n",
      "Epoch 25/50\n",
      "23/23 [==============================] - 0s 8ms/step - loss: 0.1199 - val_loss: 0.2458\n",
      "Epoch 26/50\n",
      "23/23 [==============================] - 0s 9ms/step - loss: 0.1187 - val_loss: 0.2444\n",
      "Epoch 27/50\n",
      "23/23 [==============================] - 0s 10ms/step - loss: 0.1175 - val_loss: 0.2433\n",
      "Epoch 28/50\n",
      "23/23 [==============================] - 0s 11ms/step - loss: 0.1164 - val_loss: 0.2418\n",
      "Epoch 29/50\n",
      "23/23 [==============================] - 0s 11ms/step - loss: 0.1153 - val_loss: 0.2414\n",
      "Epoch 30/50\n",
      "23/23 [==============================] - 0s 9ms/step - loss: 0.1142 - val_loss: 0.2398\n",
      "Epoch 31/50\n",
      "23/23 [==============================] - 0s 11ms/step - loss: 0.1132 - val_loss: 0.2389\n",
      "Epoch 32/50\n",
      "23/23 [==============================] - 0s 8ms/step - loss: 0.1122 - val_loss: 0.2382\n",
      "Epoch 33/50\n",
      "23/23 [==============================] - 0s 9ms/step - loss: 0.1113 - val_loss: 0.2374\n",
      "Epoch 34/50\n",
      "23/23 [==============================] - 0s 8ms/step - loss: 0.1104 - val_loss: 0.2359\n",
      "Epoch 35/50\n",
      "23/23 [==============================] - 0s 11ms/step - loss: 0.1095 - val_loss: 0.2345\n",
      "Epoch 36/50\n",
      "23/23 [==============================] - 0s 12ms/step - loss: 0.1087 - val_loss: 0.2338\n",
      "Epoch 37/50\n",
      "23/23 [==============================] - 0s 11ms/step - loss: 0.1079 - val_loss: 0.2320\n",
      "Epoch 38/50\n",
      "23/23 [==============================] - 0s 11ms/step - loss: 0.1071 - val_loss: 0.2308\n",
      "Epoch 39/50\n",
      "23/23 [==============================] - 0s 10ms/step - loss: 0.1063 - val_loss: 0.2296\n",
      "Epoch 40/50\n",
      "23/23 [==============================] - 0s 8ms/step - loss: 0.1056 - val_loss: 0.2290\n",
      "Epoch 41/50\n",
      "23/23 [==============================] - 0s 8ms/step - loss: 0.1048 - val_loss: 0.2279\n",
      "Epoch 42/50\n",
      "23/23 [==============================] - 0s 8ms/step - loss: 0.1041 - val_loss: 0.2265\n",
      "Epoch 43/50\n",
      "23/23 [==============================] - 0s 9ms/step - loss: 0.1035 - val_loss: 0.2254\n",
      "Epoch 44/50\n",
      "23/23 [==============================] - 0s 9ms/step - loss: 0.1028 - val_loss: 0.2241\n",
      "Epoch 45/50\n",
      "23/23 [==============================] - 0s 8ms/step - loss: 0.1022 - val_loss: 0.2229\n",
      "Epoch 46/50\n",
      "23/23 [==============================] - 0s 7ms/step - loss: 0.1015 - val_loss: 0.2219\n",
      "Epoch 47/50\n",
      "23/23 [==============================] - 0s 7ms/step - loss: 0.1009 - val_loss: 0.2210\n",
      "Epoch 48/50\n",
      "23/23 [==============================] - 0s 7ms/step - loss: 0.1003 - val_loss: 0.2205\n",
      "Epoch 49/50\n",
      "23/23 [==============================] - 0s 7ms/step - loss: 0.0997 - val_loss: 0.2187\n",
      "Epoch 50/50\n",
      "23/23 [==============================] - 0s 8ms/step - loss: 0.0992 - val_loss: 0.2183\n"
     ]
    },
    {
     "data": {
      "text/plain": [
       "<tensorflow.python.keras.callbacks.History at 0x279c2ab3148>"
      ]
     },
     "execution_count": 7,
     "metadata": {},
     "output_type": "execute_result"
    }
   ],
   "source": [
    "callbacks = [\n",
    "    keras.callbacks.EarlyStopping(patience=2)\n",
    "]\n",
    "\n",
    "model.fit(normal_train, normal_train,\n",
    "                epochs=50,\n",
    "                batch_size=256,\n",
    "                shuffle=True,\n",
    "                validation_data=(x_test, x_test),\n",
    "                callbacks=callbacks)"
   ]
  },
  {
   "cell_type": "markdown",
   "metadata": {},
   "source": [
    "From the below images it seems that the hypothesis is true and the reconstruction error can be utilized as an outlier score."
   ]
  },
  {
   "cell_type": "code",
   "execution_count": 8,
   "metadata": {},
   "outputs": [
    {
     "data": {
      "image/png": "[encoded data removed]",
      "text/plain": [
       "<Figure size 1440x288 with 20 Axes>"
      ]
     },
     "metadata": {
      "needs_background": "light"
     },
     "output_type": "display_data"
    }
   ],
   "source": [
    "reconstructions = model.predict(x_test)\n",
    "\n",
    "n = 10  # How many digits we will display\n",
    "plt.figure(figsize=(20, 4))\n",
    "for i in range(n):\n",
    "    # Display original\n",
    "    ax = plt.subplot(2, n, i + 1)\n",
    "    plt.imshow(x_test[i].reshape(28, 28))\n",
    "    plt.gray()\n",
    "    ax.get_xaxis().set_visible(False)\n",
    "    ax.get_yaxis().set_visible(False)\n",
    "    plt.title('$x_'+str(i)+'$')\n",
    "\n",
    "    # Display reconstruction\n",
    "    ax = plt.subplot(2, n, i + 1 + n)\n",
    "    plt.imshow(reconstructions[i].reshape(28, 28))\n",
    "    plt.gray()\n",
    "    ax.get_xaxis().set_visible(False)\n",
    "    ax.get_yaxis().set_visible(False)\n",
    "    plt.title('$\\hat{x}_'+str(i)+'$')\n",
    "plt.show()"
   ]
  },
  {
   "cell_type": "markdown",
   "metadata": {},
   "source": [
    "## Creating the evaluation dataset"
   ]
  },
  {
   "cell_type": "code",
   "execution_count": 3,
   "metadata": {},
   "outputs": [],
   "source": [
    "def create_dataset(y_test, normal=4):\n",
    "    num_normals  = int(np.sum( y_test == normal ))\n",
    "    num_outliers = int(np.ceil( num_normals * 0.10 ))\n",
    "    # Get non-normal elements in test dataset\n",
    "    sub_arr = x_test[ y_test != normal ]\n",
    "    # Generate random non-normal indices\n",
    "    idx = np.random.randint(low=0, high=len(sub_arr), size=num_outliers)\n",
    "    # Create contaminated test data\n",
    "    x_contaminated = np.zeros((num_normals + num_outliers, 784))\n",
    "    x_contaminated[num_outliers:,:] = x_test[y_test == normal]\n",
    "    x_contaminated[:num_outliers,:] = sub_arr[idx]\n",
    "    # Create contaminated labels\n",
    "    y_contaminated = np.zeros((num_normals + num_outliers))\n",
    "    y_contaminated[num_outliers:] = normal\n",
    "    y_contaminated[:num_outliers] = y_test[ y_test != normal ][idx]\n",
    "    # Create binary anomaly labels,   normal = 0,   outlier = 1\n",
    "    binary_labels = np.copy( y_contaminated )\n",
    "    binary_labels[y_contaminated == normal] = 0\n",
    "    binary_labels[y_contaminated != normal] = 1\n",
    "    \n",
    "    return (x_contaminated, y_contaminated, binary_labels)\n",
    "\n",
    "def create_model():\n",
    "    #Sigmoid and ReLU are appropriate activation functions when having nonnegative data.\n",
    "    model = keras.Sequential([\n",
    "        layers.Input( shape=(784) ),\n",
    "        # try 10 and 32\n",
    "        # 10 because: Rumelheadt proposed to use log2(N), Log2(784) approx 10.\n",
    "        layers.Dense(32, activation='relu' ),\n",
    "        layers.Dense(784, activation='sigmoid')\n",
    "    ])\n",
    "\n",
    "    model.compile(optimizer='adam', loss='binary_crossentropy')\n",
    "    return model\n",
    "\n",
    "def fit_model(model, x_train, y_train, x_test, y_test, normal=4, verbose=0):\n",
    "    callbacks = [\n",
    "        keras.callbacks.EarlyStopping(patience=2)\n",
    "    ]\n",
    "    train = x_train[y_train==normal]\n",
    "    test  = x_test[y_test==normal]\n",
    "    history = model.fit(train, train,\n",
    "                    epochs=50,\n",
    "                    batch_size=256,\n",
    "                    verbose=verbose,\n",
    "                    shuffle=True,\n",
    "                    validation_data=(test, test),\n",
    "                    callbacks=callbacks)\n",
    "    return model"
   ]
  },
  {
   "cell_type": "code",
   "execution_count": 4,
   "metadata": {},
   "outputs": [
    {
     "data": {
      "application/vnd.jupyter.widget-view+json": {
       "model_id": "18e771d244e24608b2ec65236381d682",
       "version_major": 2,
       "version_minor": 0
      },
      "text/plain": [
       "HBox(children=(FloatProgress(value=0.0, max=30.0), HTML(value='')))"
      ]
     },
     "metadata": {},
     "output_type": "display_data"
    },
    {
     "ename": "KeyboardInterrupt",
     "evalue": "",
     "output_type": "error",
     "traceback": [
      "\u001b[1;31m---------------------------------------------------------------------------\u001b[0m",
      "\u001b[1;31mKeyboardInterrupt\u001b[0m                         Traceback (most recent call last)",
      "\u001b[1;32m<ipython-input-4-c9f59d7b875c>\u001b[0m in \u001b[0;36m<module>\u001b[1;34m\u001b[0m\n\u001b[0;32m      5\u001b[0m         \u001b[1;31m# Evaluate each method 30 times\u001b[0m\u001b[1;33m\u001b[0m\u001b[1;33m\u001b[0m\u001b[1;33m\u001b[0m\u001b[0m\n\u001b[0;32m      6\u001b[0m         \u001b[0mmodel\u001b[0m \u001b[1;33m=\u001b[0m \u001b[0mcreate_model\u001b[0m\u001b[1;33m(\u001b[0m\u001b[1;33m)\u001b[0m\u001b[1;33m\u001b[0m\u001b[1;33m\u001b[0m\u001b[0m\n\u001b[1;32m----> 7\u001b[1;33m         \u001b[0mmodel\u001b[0m \u001b[1;33m=\u001b[0m \u001b[0mfit_model\u001b[0m\u001b[1;33m(\u001b[0m\u001b[0mmodel\u001b[0m\u001b[1;33m,\u001b[0m \u001b[0mx_train\u001b[0m\u001b[1;33m,\u001b[0m \u001b[0my_train\u001b[0m\u001b[1;33m,\u001b[0m \u001b[0mx_test\u001b[0m\u001b[1;33m,\u001b[0m \u001b[0my_test\u001b[0m\u001b[1;33m,\u001b[0m \u001b[0mnormal\u001b[0m\u001b[1;33m=\u001b[0m\u001b[0mi\u001b[0m\u001b[1;33m)\u001b[0m\u001b[1;33m\u001b[0m\u001b[1;33m\u001b[0m\u001b[0m\n\u001b[0m\u001b[0;32m      8\u001b[0m \u001b[1;33m\u001b[0m\u001b[0m\n\u001b[0;32m      9\u001b[0m         \u001b[0mx\u001b[0m\u001b[1;33m,\u001b[0m \u001b[0my\u001b[0m\u001b[1;33m,\u001b[0m \u001b[0mlabels\u001b[0m \u001b[1;33m=\u001b[0m \u001b[0mcreate_dataset\u001b[0m\u001b[1;33m(\u001b[0m\u001b[0my_test\u001b[0m\u001b[1;33m,\u001b[0m \u001b[0mnormal\u001b[0m\u001b[1;33m=\u001b[0m\u001b[0mi\u001b[0m\u001b[1;33m)\u001b[0m\u001b[1;33m\u001b[0m\u001b[1;33m\u001b[0m\u001b[0m\n",
      "\u001b[1;32m<ipython-input-3-432fb0cc2c8b>\u001b[0m in \u001b[0;36mfit_model\u001b[1;34m(model, x_train, y_train, x_test, y_test, normal, verbose)\u001b[0m\n\u001b[0;32m     46\u001b[0m                     \u001b[0mshuffle\u001b[0m\u001b[1;33m=\u001b[0m\u001b[1;32mTrue\u001b[0m\u001b[1;33m,\u001b[0m\u001b[1;33m\u001b[0m\u001b[1;33m\u001b[0m\u001b[0m\n\u001b[0;32m     47\u001b[0m                     \u001b[0mvalidation_data\u001b[0m\u001b[1;33m=\u001b[0m\u001b[1;33m(\u001b[0m\u001b[0mtest\u001b[0m\u001b[1;33m,\u001b[0m \u001b[0mtest\u001b[0m\u001b[1;33m)\u001b[0m\u001b[1;33m,\u001b[0m\u001b[1;33m\u001b[0m\u001b[1;33m\u001b[0m\u001b[0m\n\u001b[1;32m---> 48\u001b[1;33m                     callbacks=callbacks)\n\u001b[0m\u001b[0;32m     49\u001b[0m     \u001b[1;32mreturn\u001b[0m \u001b[0mmodel\u001b[0m\u001b[1;33m\u001b[0m\u001b[1;33m\u001b[0m\u001b[0m\n",
      "\u001b[1;32m~\\AppData\\Roaming\\Python\\Python37\\site-packages\\tensorflow\\python\\keras\\engine\\training.py\u001b[0m in \u001b[0;36m_method_wrapper\u001b[1;34m(self, *args, **kwargs)\u001b[0m\n\u001b[0;32m    106\u001b[0m   \u001b[1;32mdef\u001b[0m \u001b[0m_method_wrapper\u001b[0m\u001b[1;33m(\u001b[0m\u001b[0mself\u001b[0m\u001b[1;33m,\u001b[0m \u001b[1;33m*\u001b[0m\u001b[0margs\u001b[0m\u001b[1;33m,\u001b[0m \u001b[1;33m**\u001b[0m\u001b[0mkwargs\u001b[0m\u001b[1;33m)\u001b[0m\u001b[1;33m:\u001b[0m\u001b[1;33m\u001b[0m\u001b[1;33m\u001b[0m\u001b[0m\n\u001b[0;32m    107\u001b[0m     \u001b[1;32mif\u001b[0m \u001b[1;32mnot\u001b[0m \u001b[0mself\u001b[0m\u001b[1;33m.\u001b[0m\u001b[0m_in_multi_worker_mode\u001b[0m\u001b[1;33m(\u001b[0m\u001b[1;33m)\u001b[0m\u001b[1;33m:\u001b[0m  \u001b[1;31m# pylint: disable=protected-access\u001b[0m\u001b[1;33m\u001b[0m\u001b[1;33m\u001b[0m\u001b[0m\n\u001b[1;32m--> 108\u001b[1;33m       \u001b[1;32mreturn\u001b[0m \u001b[0mmethod\u001b[0m\u001b[1;33m(\u001b[0m\u001b[0mself\u001b[0m\u001b[1;33m,\u001b[0m \u001b[1;33m*\u001b[0m\u001b[0margs\u001b[0m\u001b[1;33m,\u001b[0m \u001b[1;33m**\u001b[0m\u001b[0mkwargs\u001b[0m\u001b[1;33m)\u001b[0m\u001b[1;33m\u001b[0m\u001b[1;33m\u001b[0m\u001b[0m\n\u001b[0m\u001b[0;32m    109\u001b[0m \u001b[1;33m\u001b[0m\u001b[0m\n\u001b[0;32m    110\u001b[0m     \u001b[1;31m# Running inside `run_distribute_coordinator` already.\u001b[0m\u001b[1;33m\u001b[0m\u001b[1;33m\u001b[0m\u001b[1;33m\u001b[0m\u001b[0m\n",
      "\u001b[1;32m~\\AppData\\Roaming\\Python\\Python37\\site-packages\\tensorflow\\python\\keras\\engine\\training.py\u001b[0m in \u001b[0;36mfit\u001b[1;34m(self, x, y, batch_size, epochs, verbose, callbacks, validation_split, validation_data, shuffle, class_weight, sample_weight, initial_epoch, steps_per_epoch, validation_steps, validation_batch_size, validation_freq, max_queue_size, workers, use_multiprocessing)\u001b[0m\n\u001b[0;32m   1096\u001b[0m                 batch_size=batch_size):\n\u001b[0;32m   1097\u001b[0m               \u001b[0mcallbacks\u001b[0m\u001b[1;33m.\u001b[0m\u001b[0mon_train_batch_begin\u001b[0m\u001b[1;33m(\u001b[0m\u001b[0mstep\u001b[0m\u001b[1;33m)\u001b[0m\u001b[1;33m\u001b[0m\u001b[1;33m\u001b[0m\u001b[0m\n\u001b[1;32m-> 1098\u001b[1;33m               \u001b[0mtmp_logs\u001b[0m \u001b[1;33m=\u001b[0m \u001b[0mtrain_function\u001b[0m\u001b[1;33m(\u001b[0m\u001b[0miterator\u001b[0m\u001b[1;33m)\u001b[0m\u001b[1;33m\u001b[0m\u001b[1;33m\u001b[0m\u001b[0m\n\u001b[0m\u001b[0;32m   1099\u001b[0m               \u001b[1;32mif\u001b[0m \u001b[0mdata_handler\u001b[0m\u001b[1;33m.\u001b[0m\u001b[0mshould_sync\u001b[0m\u001b[1;33m:\u001b[0m\u001b[1;33m\u001b[0m\u001b[1;33m\u001b[0m\u001b[0m\n\u001b[0;32m   1100\u001b[0m                 \u001b[0mcontext\u001b[0m\u001b[1;33m.\u001b[0m\u001b[0masync_wait\u001b[0m\u001b[1;33m(\u001b[0m\u001b[1;33m)\u001b[0m\u001b[1;33m\u001b[0m\u001b[1;33m\u001b[0m\u001b[0m\n",
      "\u001b[1;32m~\\AppData\\Roaming\\Python\\Python37\\site-packages\\tensorflow\\python\\eager\\def_function.py\u001b[0m in \u001b[0;36m__call__\u001b[1;34m(self, *args, **kwds)\u001b[0m\n\u001b[0;32m    778\u001b[0m       \u001b[1;32melse\u001b[0m\u001b[1;33m:\u001b[0m\u001b[1;33m\u001b[0m\u001b[1;33m\u001b[0m\u001b[0m\n\u001b[0;32m    779\u001b[0m         \u001b[0mcompiler\u001b[0m \u001b[1;33m=\u001b[0m \u001b[1;34m\"nonXla\"\u001b[0m\u001b[1;33m\u001b[0m\u001b[1;33m\u001b[0m\u001b[0m\n\u001b[1;32m--> 780\u001b[1;33m         \u001b[0mresult\u001b[0m \u001b[1;33m=\u001b[0m \u001b[0mself\u001b[0m\u001b[1;33m.\u001b[0m\u001b[0m_call\u001b[0m\u001b[1;33m(\u001b[0m\u001b[1;33m*\u001b[0m\u001b[0margs\u001b[0m\u001b[1;33m,\u001b[0m \u001b[1;33m**\u001b[0m\u001b[0mkwds\u001b[0m\u001b[1;33m)\u001b[0m\u001b[1;33m\u001b[0m\u001b[1;33m\u001b[0m\u001b[0m\n\u001b[0m\u001b[0;32m    781\u001b[0m \u001b[1;33m\u001b[0m\u001b[0m\n\u001b[0;32m    782\u001b[0m       \u001b[0mnew_tracing_count\u001b[0m \u001b[1;33m=\u001b[0m \u001b[0mself\u001b[0m\u001b[1;33m.\u001b[0m\u001b[0m_get_tracing_count\u001b[0m\u001b[1;33m(\u001b[0m\u001b[1;33m)\u001b[0m\u001b[1;33m\u001b[0m\u001b[1;33m\u001b[0m\u001b[0m\n",
      "\u001b[1;32m~\\AppData\\Roaming\\Python\\Python37\\site-packages\\tensorflow\\python\\eager\\def_function.py\u001b[0m in \u001b[0;36m_call\u001b[1;34m(self, *args, **kwds)\u001b[0m\n\u001b[0;32m    805\u001b[0m       \u001b[1;31m# In this case we have created variables on the first call, so we run the\u001b[0m\u001b[1;33m\u001b[0m\u001b[1;33m\u001b[0m\u001b[1;33m\u001b[0m\u001b[0m\n\u001b[0;32m    806\u001b[0m       \u001b[1;31m# defunned version which is guaranteed to never create variables.\u001b[0m\u001b[1;33m\u001b[0m\u001b[1;33m\u001b[0m\u001b[1;33m\u001b[0m\u001b[0m\n\u001b[1;32m--> 807\u001b[1;33m       \u001b[1;32mreturn\u001b[0m \u001b[0mself\u001b[0m\u001b[1;33m.\u001b[0m\u001b[0m_stateless_fn\u001b[0m\u001b[1;33m(\u001b[0m\u001b[1;33m*\u001b[0m\u001b[0margs\u001b[0m\u001b[1;33m,\u001b[0m \u001b[1;33m**\u001b[0m\u001b[0mkwds\u001b[0m\u001b[1;33m)\u001b[0m  \u001b[1;31m# pylint: disable=not-callable\u001b[0m\u001b[1;33m\u001b[0m\u001b[1;33m\u001b[0m\u001b[0m\n\u001b[0m\u001b[0;32m    808\u001b[0m     \u001b[1;32melif\u001b[0m \u001b[0mself\u001b[0m\u001b[1;33m.\u001b[0m\u001b[0m_stateful_fn\u001b[0m \u001b[1;32mis\u001b[0m \u001b[1;32mnot\u001b[0m \u001b[1;32mNone\u001b[0m\u001b[1;33m:\u001b[0m\u001b[1;33m\u001b[0m\u001b[1;33m\u001b[0m\u001b[0m\n\u001b[0;32m    809\u001b[0m       \u001b[1;31m# Release the lock early so that multiple threads can perform the call\u001b[0m\u001b[1;33m\u001b[0m\u001b[1;33m\u001b[0m\u001b[1;33m\u001b[0m\u001b[0m\n",
      "\u001b[1;32m~\\AppData\\Roaming\\Python\\Python37\\site-packages\\tensorflow\\python\\eager\\function.py\u001b[0m in \u001b[0;36m__call__\u001b[1;34m(self, *args, **kwargs)\u001b[0m\n\u001b[0;32m   2827\u001b[0m     \u001b[1;32mwith\u001b[0m \u001b[0mself\u001b[0m\u001b[1;33m.\u001b[0m\u001b[0m_lock\u001b[0m\u001b[1;33m:\u001b[0m\u001b[1;33m\u001b[0m\u001b[1;33m\u001b[0m\u001b[0m\n\u001b[0;32m   2828\u001b[0m       \u001b[0mgraph_function\u001b[0m\u001b[1;33m,\u001b[0m \u001b[0margs\u001b[0m\u001b[1;33m,\u001b[0m \u001b[0mkwargs\u001b[0m \u001b[1;33m=\u001b[0m \u001b[0mself\u001b[0m\u001b[1;33m.\u001b[0m\u001b[0m_maybe_define_function\u001b[0m\u001b[1;33m(\u001b[0m\u001b[0margs\u001b[0m\u001b[1;33m,\u001b[0m \u001b[0mkwargs\u001b[0m\u001b[1;33m)\u001b[0m\u001b[1;33m\u001b[0m\u001b[1;33m\u001b[0m\u001b[0m\n\u001b[1;32m-> 2829\u001b[1;33m     \u001b[1;32mreturn\u001b[0m \u001b[0mgraph_function\u001b[0m\u001b[1;33m.\u001b[0m\u001b[0m_filtered_call\u001b[0m\u001b[1;33m(\u001b[0m\u001b[0margs\u001b[0m\u001b[1;33m,\u001b[0m \u001b[0mkwargs\u001b[0m\u001b[1;33m)\u001b[0m  \u001b[1;31m# pylint: disable=protected-access\u001b[0m\u001b[1;33m\u001b[0m\u001b[1;33m\u001b[0m\u001b[0m\n\u001b[0m\u001b[0;32m   2830\u001b[0m \u001b[1;33m\u001b[0m\u001b[0m\n\u001b[0;32m   2831\u001b[0m   \u001b[1;33m@\u001b[0m\u001b[0mproperty\u001b[0m\u001b[1;33m\u001b[0m\u001b[1;33m\u001b[0m\u001b[0m\n",
      "\u001b[1;32m~\\AppData\\Roaming\\Python\\Python37\\site-packages\\tensorflow\\python\\eager\\function.py\u001b[0m in \u001b[0;36m_filtered_call\u001b[1;34m(self, args, kwargs, cancellation_manager)\u001b[0m\n\u001b[0;32m   1846\u001b[0m                            resource_variable_ops.BaseResourceVariable))],\n\u001b[0;32m   1847\u001b[0m         \u001b[0mcaptured_inputs\u001b[0m\u001b[1;33m=\u001b[0m\u001b[0mself\u001b[0m\u001b[1;33m.\u001b[0m\u001b[0mcaptured_inputs\u001b[0m\u001b[1;33m,\u001b[0m\u001b[1;33m\u001b[0m\u001b[1;33m\u001b[0m\u001b[0m\n\u001b[1;32m-> 1848\u001b[1;33m         cancellation_manager=cancellation_manager)\n\u001b[0m\u001b[0;32m   1849\u001b[0m \u001b[1;33m\u001b[0m\u001b[0m\n\u001b[0;32m   1850\u001b[0m   \u001b[1;32mdef\u001b[0m \u001b[0m_call_flat\u001b[0m\u001b[1;33m(\u001b[0m\u001b[0mself\u001b[0m\u001b[1;33m,\u001b[0m \u001b[0margs\u001b[0m\u001b[1;33m,\u001b[0m \u001b[0mcaptured_inputs\u001b[0m\u001b[1;33m,\u001b[0m \u001b[0mcancellation_manager\u001b[0m\u001b[1;33m=\u001b[0m\u001b[1;32mNone\u001b[0m\u001b[1;33m)\u001b[0m\u001b[1;33m:\u001b[0m\u001b[1;33m\u001b[0m\u001b[1;33m\u001b[0m\u001b[0m\n",
      "\u001b[1;32m~\\AppData\\Roaming\\Python\\Python37\\site-packages\\tensorflow\\python\\eager\\function.py\u001b[0m in \u001b[0;36m_call_flat\u001b[1;34m(self, args, captured_inputs, cancellation_manager)\u001b[0m\n\u001b[0;32m   1922\u001b[0m       \u001b[1;31m# No tape is watching; skip to running the function.\u001b[0m\u001b[1;33m\u001b[0m\u001b[1;33m\u001b[0m\u001b[1;33m\u001b[0m\u001b[0m\n\u001b[0;32m   1923\u001b[0m       return self._build_call_outputs(self._inference_function.call(\n\u001b[1;32m-> 1924\u001b[1;33m           ctx, args, cancellation_manager=cancellation_manager))\n\u001b[0m\u001b[0;32m   1925\u001b[0m     forward_backward = self._select_forward_and_backward_functions(\n\u001b[0;32m   1926\u001b[0m         \u001b[0margs\u001b[0m\u001b[1;33m,\u001b[0m\u001b[1;33m\u001b[0m\u001b[1;33m\u001b[0m\u001b[0m\n",
      "\u001b[1;32m~\\AppData\\Roaming\\Python\\Python37\\site-packages\\tensorflow\\python\\eager\\function.py\u001b[0m in \u001b[0;36mcall\u001b[1;34m(self, ctx, args, cancellation_manager)\u001b[0m\n\u001b[0;32m    548\u001b[0m               \u001b[0minputs\u001b[0m\u001b[1;33m=\u001b[0m\u001b[0margs\u001b[0m\u001b[1;33m,\u001b[0m\u001b[1;33m\u001b[0m\u001b[1;33m\u001b[0m\u001b[0m\n\u001b[0;32m    549\u001b[0m               \u001b[0mattrs\u001b[0m\u001b[1;33m=\u001b[0m\u001b[0mattrs\u001b[0m\u001b[1;33m,\u001b[0m\u001b[1;33m\u001b[0m\u001b[1;33m\u001b[0m\u001b[0m\n\u001b[1;32m--> 550\u001b[1;33m               ctx=ctx)\n\u001b[0m\u001b[0;32m    551\u001b[0m         \u001b[1;32melse\u001b[0m\u001b[1;33m:\u001b[0m\u001b[1;33m\u001b[0m\u001b[1;33m\u001b[0m\u001b[0m\n\u001b[0;32m    552\u001b[0m           outputs = execute.execute_with_cancellation(\n",
      "\u001b[1;32m~\\AppData\\Roaming\\Python\\Python37\\site-packages\\tensorflow\\python\\eager\\execute.py\u001b[0m in \u001b[0;36mquick_execute\u001b[1;34m(op_name, num_outputs, inputs, attrs, ctx, name)\u001b[0m\n\u001b[0;32m     58\u001b[0m     \u001b[0mctx\u001b[0m\u001b[1;33m.\u001b[0m\u001b[0mensure_initialized\u001b[0m\u001b[1;33m(\u001b[0m\u001b[1;33m)\u001b[0m\u001b[1;33m\u001b[0m\u001b[1;33m\u001b[0m\u001b[0m\n\u001b[0;32m     59\u001b[0m     tensors = pywrap_tfe.TFE_Py_Execute(ctx._handle, device_name, op_name,\n\u001b[1;32m---> 60\u001b[1;33m                                         inputs, attrs, num_outputs)\n\u001b[0m\u001b[0;32m     61\u001b[0m   \u001b[1;32mexcept\u001b[0m \u001b[0mcore\u001b[0m\u001b[1;33m.\u001b[0m\u001b[0m_NotOkStatusException\u001b[0m \u001b[1;32mas\u001b[0m \u001b[0me\u001b[0m\u001b[1;33m:\u001b[0m\u001b[1;33m\u001b[0m\u001b[1;33m\u001b[0m\u001b[0m\n\u001b[0;32m     62\u001b[0m     \u001b[1;32mif\u001b[0m \u001b[0mname\u001b[0m \u001b[1;32mis\u001b[0m \u001b[1;32mnot\u001b[0m \u001b[1;32mNone\u001b[0m\u001b[1;33m:\u001b[0m\u001b[1;33m\u001b[0m\u001b[1;33m\u001b[0m\u001b[0m\n",
      "\u001b[1;31mKeyboardInterrupt\u001b[0m: "
     ]
    }
   ],
   "source": [
    "evals = np.zeros((10, 30))\n",
    "for i in range(10):\n",
    "    # Evaluate for all numbers\n",
    "    for j in tqdm_notebook(range(30)):\n",
    "        # Evaluate each method 30 times\n",
    "        model = create_model()\n",
    "        model = fit_model(model, x_train, y_train, x_test, y_test, normal=i)\n",
    "\n",
    "        x, y, labels = create_dataset(y_test, normal=i)\n",
    "        xhat = model.predict(x)\n",
    "        err  = np.sum(np.abs(x-xhat), axis=1)\n",
    "        # Max-Min normalize the error\n",
    "        err /= np.max(err)\n",
    "        # Compute AUC\n",
    "        AUC = roc_auc_score(labels, err)\n",
    "        evals[i,j] = AUC\n",
    "\n",
    "print(np.mean(evals, axis=1))\n",
    "print(np.std(evals, axis=1))"
   ]
  },
  {
   "cell_type": "code",
   "execution_count": 17,
   "metadata": {},
   "outputs": [
    {
     "name": "stdout",
     "output_type": "stream",
     "text": [
      "[98.93662363 99.91235799 90.20429587 94.37494338 95.83061779 94.6356087\n",
      " 98.64061413 97.09929662 86.35914736 96.67651269]\n",
      "[0.31434816 0.03885487 1.5627968  1.15765485 1.78066949 1.23174309\n",
      " 0.4360406  0.77941863 3.36474175 1.17835281]\n"
     ]
    }
   ],
   "source": [
    "print(np.mean(evals, axis=1)*100)\n",
    "print(np.std(evals, axis=1)*100)"
   ]
  },
  {
   "cell_type": "markdown",
   "metadata": {},
   "source": [
    "## Misc"
   ]
  },
  {
   "cell_type": "code",
   "execution_count": 11,
   "metadata": {},
   "outputs": [],
   "source": [
    "num_normals  = int(np.sum( y_test == 4 ))\n",
    "num_outliers = int(np.ceil( num_normals * 0.05 ))"
   ]
  },
  {
   "cell_type": "code",
   "execution_count": 12,
   "metadata": {},
   "outputs": [],
   "source": [
    "sub_arr = x_test[ y_test != 4 ]\n",
    "idx = np.random.randint(low=0, high=len(sub_arr), size=num_outliers)\n",
    "\n",
    "x_contaminated = np.zeros((num_normals + num_outliers, 784))\n",
    "x_contaminated[num_outliers:,:] = x_test[y_test == 4]\n",
    "x_contaminated[:num_outliers,:] = sub_arr[idx]\n",
    "\n",
    "y_contaminated = np.zeros((num_normals + num_outliers))\n",
    "y_contaminated[num_outliers:] = 4\n",
    "y_contaminated[:num_outliers] = y_test[ y_test != 4 ][idx]"
   ]
  },
  {
   "cell_type": "code",
   "execution_count": 13,
   "metadata": {},
   "outputs": [],
   "source": [
    "xhat = model.predict(x_contaminated)\n",
    "\n",
    "err  = np.abs(x_contaminated - xhat)\n",
    "err  = np.sum(err, axis=1)"
   ]
  },
  {
   "cell_type": "code",
   "execution_count": 14,
   "metadata": {},
   "outputs": [
    {
     "name": "stdout",
     "output_type": "stream",
     "text": [
      "[0. 4. 0. 6. 0. 5. 2. 4. 4. 4. 4. 5. 4. 4. 4. 4. 0. 4. 4. 4. 8. 8. 4. 4.\n",
      " 4. 2. 4. 4. 4. 4. 4. 2. 4. 4. 4. 6. 1. 4. 4. 4. 5. 4. 4. 4. 2. 1. 4. 4.\n",
      " 8. 4.]\n"
     ]
    }
   ],
   "source": [
    "y_outliers = y_contaminated[np.argsort(err)[::-1]][:50]\n",
    "print(y_outliers)"
   ]
  },
  {
   "cell_type": "code",
   "execution_count": 15,
   "metadata": {},
   "outputs": [
    {
     "data": {
      "image/png": "[encoded data removed]",
      "text/plain": [
       "<Figure size 1440x288 with 10 Axes>"
      ]
     },
     "metadata": {
      "needs_background": "light"
     },
     "output_type": "display_data"
    }
   ],
   "source": [
    "n = 10  # How many digits we will display\n",
    "plt.figure(figsize=(20, 4))\n",
    "for i in range(n):\n",
    "    # Display original\n",
    "    ax = plt.subplot(2, n, i + 1)\n",
    "    plt.imshow(x_contaminated[np.argsort(err)[::-1]][i].reshape(28, 28))\n",
    "    plt.gray()\n",
    "    ax.get_xaxis().set_visible(False)\n",
    "    ax.get_yaxis().set_visible(False)\n",
    "    #plt.title('$x_'+str(i)+'$')\n",
    "plt.show()"
   ]
  },
  {
   "cell_type": "code",
   "execution_count": 16,
   "metadata": {},
   "outputs": [
    {
     "name": "stdout",
     "output_type": "stream",
     "text": [
      "0.7218533604887983\n"
     ]
    }
   ],
   "source": [
    "# create outlier labels\n",
    "# normal:  0\n",
    "# outlier: 1\n",
    "y_true = np.copy( y_contaminated )\n",
    "y_true[y_contaminated == 4] = 0\n",
    "y_true[y_contaminated != 4] = 1 # set outliers as 1\n",
    "\n",
    "# Perform max-min normalization on the errors\n",
    "n_err = np.copy( err )\n",
    "n_err = n_err / np.max(n_err)\n",
    "\n",
    "AUC = roc_auc_score(y_true, n_err)\n",
    "print(AUC)"
   ]
  }
 ],
 "metadata": {
  "kernelspec": {
   "display_name": "Python 3",
   "language": "python",
   "name": "python3"
  },
  "language_info": {
   "codemirror_mode": {
    "name": "ipython",
    "version": 3
   },
   "file_extension": ".py",
   "mimetype": "text/x-python",
   "name": "python",
   "nbconvert_exporter": "python",
   "pygments_lexer": "ipython3",
   "version": "3.7.6"
  }
 },
 "nbformat": 4,
 "nbformat_minor": 4
}
