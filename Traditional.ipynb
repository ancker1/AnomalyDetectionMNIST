{
 "cells": [
  {
   "cell_type": "code",
   "execution_count": 1,
   "metadata": {},
   "outputs": [
    {
     "name": "stderr",
     "output_type": "stream",
     "text": [
      "C:\\Users\\An-ck\\anaconda3\\lib\\site-packages\\tensorboard\\compat\\tensorflow_stub\\dtypes.py:541: FutureWarning: Passing (type, 1) or '1type' as a synonym of type is deprecated; in a future version of numpy, it will be understood as (type, (1,)) / '(1,)type'.\n",
      "  _np_qint8 = np.dtype([(\"qint8\", np.int8, 1)])\n",
      "C:\\Users\\An-ck\\anaconda3\\lib\\site-packages\\tensorboard\\compat\\tensorflow_stub\\dtypes.py:542: FutureWarning: Passing (type, 1) or '1type' as a synonym of type is deprecated; in a future version of numpy, it will be understood as (type, (1,)) / '(1,)type'.\n",
      "  _np_quint8 = np.dtype([(\"quint8\", np.uint8, 1)])\n",
      "C:\\Users\\An-ck\\anaconda3\\lib\\site-packages\\tensorboard\\compat\\tensorflow_stub\\dtypes.py:543: FutureWarning: Passing (type, 1) or '1type' as a synonym of type is deprecated; in a future version of numpy, it will be understood as (type, (1,)) / '(1,)type'.\n",
      "  _np_qint16 = np.dtype([(\"qint16\", np.int16, 1)])\n",
      "C:\\Users\\An-ck\\anaconda3\\lib\\site-packages\\tensorboard\\compat\\tensorflow_stub\\dtypes.py:544: FutureWarning: Passing (type, 1) or '1type' as a synonym of type is deprecated; in a future version of numpy, it will be understood as (type, (1,)) / '(1,)type'.\n",
      "  _np_quint16 = np.dtype([(\"quint16\", np.uint16, 1)])\n",
      "C:\\Users\\An-ck\\anaconda3\\lib\\site-packages\\tensorboard\\compat\\tensorflow_stub\\dtypes.py:545: FutureWarning: Passing (type, 1) or '1type' as a synonym of type is deprecated; in a future version of numpy, it will be understood as (type, (1,)) / '(1,)type'.\n",
      "  _np_qint32 = np.dtype([(\"qint32\", np.int32, 1)])\n",
      "C:\\Users\\An-ck\\anaconda3\\lib\\site-packages\\tensorboard\\compat\\tensorflow_stub\\dtypes.py:550: FutureWarning: Passing (type, 1) or '1type' as a synonym of type is deprecated; in a future version of numpy, it will be understood as (type, (1,)) / '(1,)type'.\n",
      "  np_resource = np.dtype([(\"resource\", np.ubyte, 1)])\n"
     ]
    }
   ],
   "source": [
    "import numpy as np\n",
    "import matplotlib.pyplot as plt\n",
    "from sklearn.metrics import roc_auc_score\n",
    "from tqdm.notebook import tqdm_notebook\n",
    "\n",
    "from sklearn.neighbors import LocalOutlierFactor\n",
    "from sklearn.neighbors import NearestNeighbors\n",
    "\n",
    "from util import load_data, load_data_fashion, create_dataset\n",
    "\n",
    "import time"
   ]
  },
  {
   "cell_type": "code",
   "execution_count": 2,
   "metadata": {},
   "outputs": [],
   "source": [
    "(x_train, y_train), (x_test, y_test) = load_data(reshape=1)\n",
    "(f_x_train, f_y_train), (f_x_test, f_y_test) = load_data_fashion(reshape=1)"
   ]
  },
  {
   "cell_type": "code",
   "execution_count": null,
   "metadata": {},
   "outputs": [],
   "source": [
    "start1 = time.time()\n",
    "start2 = time.perf_counter()\n",
    "start3 = time.process_time()\n",
    "\n",
    "\n",
    "\n",
    "lof = LocalOutlierFactor(n_neighbors=20, novelty=True)\n",
    "lof.fit(x_train[y_train==normal])\n",
    "\n",
    "#Compute scores\n",
    "scores = lof.decision_function(x_test)\n",
    "# Baseline regularizaion and range normalization\n",
    "scores = 1 - scores\n",
    "scores = (scores - np.min(scores)) / (np.max(scores) - np.min(scores))\n",
    "\n",
    "#Compute labels and AUC\n",
    "labels = np.copy(y_test)\n",
    "labels[y_test == normal ] = 0\n",
    "labels[y_test != normal ] = 1\n",
    "\n",
    "AUC = roc_auc_score(labels, scores)\n",
    "\n",
    "\n",
    "end1 = time.time()\n",
    "end2 = time.perf_counter()\n",
    "end3 = time.process_time()\n",
    "print(end1 - start1)\n",
    "print(end2 - start2)\n",
    "print(end3 - start3)"
   ]
  },
  {
   "cell_type": "code",
   "execution_count": null,
   "metadata": {},
   "outputs": [],
   "source": [
    "AUCs = []\n",
    "for normal in range(10):\n",
    "    lof = LocalOutlierFactor(n_neighbors=20, novelty=True)\n",
    "    lof.fit(x_train[y_train==normal])\n",
    "    \n",
    "    #Compute scores\n",
    "    scores = lof.decision_function(x_test)\n",
    "    # Baseline regularizaion and range normalization\n",
    "    scores = 1 - scores\n",
    "    scores = (scores - np.min(scores)) / (np.max(scores) - np.min(scores))\n",
    "    \n",
    "    #Compute labels and AUC\n",
    "    labels = np.copy(y_test)\n",
    "    labels[y_test == normal ] = 0\n",
    "    labels[y_test != normal ] = 1\n",
    "\n",
    "    AUC = roc_auc_score(labels, scores)\n",
    "    AUCs.append(AUC)\n",
    "print(AUCs)"
   ]
  },
  {
   "cell_type": "markdown",
   "metadata": {},
   "source": [
    "# CASE 2"
   ]
  },
  {
   "cell_type": "code",
   "execution_count": 5,
   "metadata": {},
   "outputs": [
    {
     "data": {
      "text/plain": [
       "(60000, 784)"
      ]
     },
     "execution_count": 5,
     "metadata": {},
     "output_type": "execute_result"
    }
   ],
   "source": [
    "x_train.shape"
   ]
  },
  {
   "cell_type": "code",
   "execution_count": 6,
   "metadata": {},
   "outputs": [
    {
     "name": "stdout",
     "output_type": "stream",
     "text": [
      "(4500, 784)\n",
      "(4500, 784)\n",
      "(4500, 784)\n",
      "(4500, 784)\n",
      "(4500, 784)\n",
      "(4500, 784)\n",
      "(4500, 784)\n",
      "(4500, 784)\n",
      "(4500, 784)\n",
      "(4500, 784)\n"
     ]
    }
   ],
   "source": [
    "x = np.zeros((4500,784))\n",
    "for normal in range(10):\n",
    "    indice = 0\n",
    "    for j in range(10):\n",
    "        if j != normal:\n",
    "            x[indice*500:(indice+1)*500] = x_train[y_train==j][:500]\n",
    "            indice += 1\n",
    "    print(x.shape)"
   ]
  },
  {
   "cell_type": "code",
   "execution_count": 8,
   "metadata": {},
   "outputs": [
    {
     "name": "stdout",
     "output_type": "stream",
     "text": [
      "0\n",
      "0.8947884519661523\n",
      "1\n",
      "0.5907808512911489\n",
      "2\n",
      "0.9709410375564452\n",
      "3\n",
      "0.7786960208812872\n",
      "4\n",
      "0.8503099029368284\n",
      "5\n",
      "0.8702181938314711\n",
      "6\n",
      "0.8995669247524544\n",
      "7\n",
      "0.8802724559416152\n",
      "8\n",
      "0.8998756046302013\n",
      "9\n",
      "0.7238304266164635\n",
      "[0.8947884519661523, 0.5907808512911489, 0.9709410375564452, 0.7786960208812872, 0.8503099029368284, 0.8702181938314711, 0.8995669247524544, 0.8802724559416152, 0.8998756046302013, 0.7238304266164635]\n"
     ]
    }
   ],
   "source": [
    "AUCs = []\n",
    "\n",
    "x = np.zeros((4500,784))\n",
    "for normal in range(10):\n",
    "    # Sample 500 anomalous\n",
    "    indice = 0\n",
    "    for j in range(10):\n",
    "        if j != normal:\n",
    "            x[indice*500:(indice+1)*500] = x_train[y_train==j][:500]\n",
    "            indice += 1   \n",
    "    \n",
    "    print(normal)\n",
    "    lof = LocalOutlierFactor(n_neighbors=20, novelty=True)\n",
    "    lof.fit( x )\n",
    "    \n",
    "    #Compute scores\n",
    "    scores = lof.decision_function(x_test)\n",
    "    # Baseline regularizaion and range normalization\n",
    "    scores = 1 - scores\n",
    "    scores = (scores - np.min(scores)) / (np.max(scores) - np.min(scores))\n",
    "    \n",
    "    #Compute labels and AUC\n",
    "    labels = np.copy(y_test)\n",
    "    labels[y_test != normal ] = 0\n",
    "    labels[y_test == normal ] = 1\n",
    "\n",
    "    AUC = roc_auc_score(labels, scores)\n",
    "    print(AUC)\n",
    "    AUCs.append(AUC)\n",
    "    \n",
    "print(AUCs)"
   ]
  },
  {
   "cell_type": "markdown",
   "metadata": {},
   "source": [
    "# CASE 3"
   ]
  },
  {
   "cell_type": "code",
   "execution_count": 4,
   "metadata": {},
   "outputs": [
    {
     "name": "stdout",
     "output_type": "stream",
     "text": [
      "0.95738528\n"
     ]
    }
   ],
   "source": [
    "xt = x_train[:6000]\n",
    "    \n",
    "lof = LocalOutlierFactor(n_neighbors=20, novelty=True)\n",
    "lof.fit( xt )\n",
    "\n",
    "\n",
    "x = np.copy( x_test )\n",
    "x[5000:] = f_x_test[:5000]\n",
    "\n",
    "labels = np.zeros( y_test.shape )\n",
    "labels[5000:] = 1\n",
    "\n",
    "\n",
    "#Compute scores\n",
    "scores = lof.decision_function( x )\n",
    "# Baseline regularizaion and range normalization\n",
    "scores = 1 - scores\n",
    "scores = (scores - np.min(scores)) / (np.max(scores) - np.min(scores))\n",
    "\n",
    "AUC = roc_auc_score(labels, scores)\n",
    "print(AUC)"
   ]
  },
  {
   "cell_type": "markdown",
   "metadata": {},
   "source": [
    "# KNN"
   ]
  },
  {
   "cell_type": "code",
   "execution_count": null,
   "metadata": {},
   "outputs": [],
   "source": [
    "start = time.process_time()\n",
    "knn = NearestNeighbors(n_neighbors=20).fit( x_train[y_train == normal] )\n",
    "\n",
    "# Compute regular normal scores\n",
    "distances, indices = knn.kneighbors( x_test )\n",
    "\n",
    "end = time.process_time()\n",
    "print(end - start)"
   ]
  },
  {
   "cell_type": "code",
   "execution_count": null,
   "metadata": {},
   "outputs": [],
   "source": [
    "AUCs = []\n",
    "for normal in range(10):\n",
    "    knn = NearestNeighbors(n_neighbors=20).fit( x_train[y_train == normal] )\n",
    "    \n",
    "    # Compute regular normal scores\n",
    "    distances, indices = knn.kneighbors( x_test )\n",
    "    scores = np.mean(distances, axis=1)\n",
    "    scores = (scores - np.min(scores)) / (np.max(scores) - np.min(scores))\n",
    "    \n",
    "    # Compute labels\n",
    "    labels = np.copy(y_test)\n",
    "    labels[y_test == normal ] = 0\n",
    "    labels[y_test != normal ] = 1\n",
    "\n",
    "    AUC = roc_auc_score(labels, scores)\n",
    "    AUCs.append(AUC)\n",
    "print(AUCs)"
   ]
  },
  {
   "cell_type": "markdown",
   "metadata": {},
   "source": [
    "# CASE 2"
   ]
  },
  {
   "cell_type": "code",
   "execution_count": 3,
   "metadata": {},
   "outputs": [
    {
     "name": "stdout",
     "output_type": "stream",
     "text": [
      "0\n",
      "0.9588601294176208\n",
      "1\n",
      "0.3620382089641241\n",
      "2\n",
      "0.9240535037584106\n",
      "3\n",
      "0.8600740096256566\n",
      "4\n",
      "0.6924473072411412\n",
      "5\n",
      "0.8688877466416948\n",
      "6\n",
      "0.9085147299150012\n",
      "7\n",
      "0.6200646282164486\n",
      "8\n",
      "0.8654757804398973\n",
      "9\n",
      "0.5703846121201038\n",
      "[0.9588601294176208, 0.3620382089641241, 0.9240535037584106, 0.8600740096256566, 0.6924473072411412, 0.8688877466416948, 0.9085147299150012, 0.6200646282164486, 0.8654757804398973, 0.5703846121201038]\n"
     ]
    }
   ],
   "source": [
    "x = np.zeros((4500,784))\n",
    "\n",
    "AUCs = []\n",
    "for normal in range(10):\n",
    "    print(normal)\n",
    "    # Sample 500 anomalous\n",
    "    indice = 0\n",
    "    for j in range(10):\n",
    "        if j != normal:\n",
    "            x[indice*500:(indice+1)*500] = x_train[y_train==j][:500]\n",
    "            indice += 1 \n",
    "    \n",
    "    knn = NearestNeighbors(n_neighbors=20).fit( x )\n",
    "    \n",
    "    # Compute regular normal scores\n",
    "    distances, indices = knn.kneighbors( x_test )\n",
    "    scores = np.mean(distances, axis=1)\n",
    "    scores = (scores - np.min(scores)) / (np.max(scores) - np.min(scores))\n",
    "    \n",
    "    # Compute labels\n",
    "    labels = np.copy(y_test)\n",
    "    labels[y_test != normal ] = 0\n",
    "    labels[y_test == normal ] = 1\n",
    "\n",
    "    AUC = roc_auc_score(labels, scores)\n",
    "    print(AUC)\n",
    "    AUCs.append(AUC)\n",
    "print(AUCs)"
   ]
  },
  {
   "cell_type": "markdown",
   "metadata": {},
   "source": [
    "# CASE 3"
   ]
  },
  {
   "cell_type": "code",
   "execution_count": 5,
   "metadata": {},
   "outputs": [
    {
     "name": "stdout",
     "output_type": "stream",
     "text": [
      "0.95405572\n"
     ]
    }
   ],
   "source": [
    "xt = x_train[:6000]\n",
    "    \n",
    "knn = NearestNeighbors(n_neighbors=20).fit( xt )\n",
    "\n",
    "\n",
    "x = np.copy( x_test )\n",
    "x[5000:] = f_x_test[:5000]\n",
    "\n",
    "labels = np.zeros( y_test.shape )\n",
    "labels[5000:] = 1\n",
    "\n",
    "\n",
    "# Compute regular normal scores\n",
    "distances, indices = knn.kneighbors( x )\n",
    "scores = np.mean(distances, axis=1)\n",
    "scores = (scores - np.min(scores)) / (np.max(scores) - np.min(scores))\n",
    "\n",
    "AUC = roc_auc_score(labels, scores)\n",
    "print(AUC)"
   ]
  },
  {
   "cell_type": "code",
   "execution_count": null,
   "metadata": {},
   "outputs": [],
   "source": []
  }
 ],
 "metadata": {
  "kernelspec": {
   "display_name": "Python 3",
   "language": "python",
   "name": "python3"
  },
  "language_info": {
   "codemirror_mode": {
    "name": "ipython",
    "version": 3
   },
   "file_extension": ".py",
   "mimetype": "text/x-python",
   "name": "python",
   "nbconvert_exporter": "python",
   "pygments_lexer": "ipython3",
   "version": "3.7.6"
  }
 },
 "nbformat": 4,
 "nbformat_minor": 4
}
